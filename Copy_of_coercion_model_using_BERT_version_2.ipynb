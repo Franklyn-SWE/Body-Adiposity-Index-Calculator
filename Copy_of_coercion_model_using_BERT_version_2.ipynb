{
  "nbformat": 4,
  "nbformat_minor": 0,
  "metadata": {
    "colab": {
      "provenance": [],
      "machine_shape": "hm",
      "gpuType": "T4",
      "include_colab_link": true
    },
    "kernelspec": {
      "name": "python3",
      "display_name": "Python 3"
    },
    "language_info": {
      "name": "python"
    },
    "accelerator": "GPU",
    "widgets": {
      "application/vnd.jupyter.widget-state+json": {
        "855a910875dd4e62a263e25985ad90cf": {
          "model_module": "@jupyter-widgets/controls",
          "model_name": "HBoxModel",
          "model_module_version": "1.5.0",
          "state": {
            "_dom_classes": [],
            "_model_module": "@jupyter-widgets/controls",
            "_model_module_version": "1.5.0",
            "_model_name": "HBoxModel",
            "_view_count": null,
            "_view_module": "@jupyter-widgets/controls",
            "_view_module_version": "1.5.0",
            "_view_name": "HBoxView",
            "box_style": "",
            "children": [
              "IPY_MODEL_a19a76259a124497b3707d0cd964828f",
              "IPY_MODEL_7e1a72bbd23946fa940b95cbc935895c",
              "IPY_MODEL_925e9e9c60ab4c6187a812bbd497d64d"
            ],
            "layout": "IPY_MODEL_0cb5f6ec850d4d9cb00631e65f6f8fe7"
          }
        },
        "a19a76259a124497b3707d0cd964828f": {
          "model_module": "@jupyter-widgets/controls",
          "model_name": "HTMLModel",
          "model_module_version": "1.5.0",
          "state": {
            "_dom_classes": [],
            "_model_module": "@jupyter-widgets/controls",
            "_model_module_version": "1.5.0",
            "_model_name": "HTMLModel",
            "_view_count": null,
            "_view_module": "@jupyter-widgets/controls",
            "_view_module_version": "1.5.0",
            "_view_name": "HTMLView",
            "description": "",
            "description_tooltip": null,
            "layout": "IPY_MODEL_429e7feb322d4ed68a2cecf7c6064017",
            "placeholder": "​",
            "style": "IPY_MODEL_ff83880cdf6d4d9cb754cecaeafbb92f",
            "value": "tokenizer_config.json: 100%"
          }
        },
        "7e1a72bbd23946fa940b95cbc935895c": {
          "model_module": "@jupyter-widgets/controls",
          "model_name": "FloatProgressModel",
          "model_module_version": "1.5.0",
          "state": {
            "_dom_classes": [],
            "_model_module": "@jupyter-widgets/controls",
            "_model_module_version": "1.5.0",
            "_model_name": "FloatProgressModel",
            "_view_count": null,
            "_view_module": "@jupyter-widgets/controls",
            "_view_module_version": "1.5.0",
            "_view_name": "ProgressView",
            "bar_style": "success",
            "description": "",
            "description_tooltip": null,
            "layout": "IPY_MODEL_52eecf458891405b80b3eb4e3bc01350",
            "max": 48,
            "min": 0,
            "orientation": "horizontal",
            "style": "IPY_MODEL_61152af269f74574ba0d79445ade123d",
            "value": 48
          }
        },
        "925e9e9c60ab4c6187a812bbd497d64d": {
          "model_module": "@jupyter-widgets/controls",
          "model_name": "HTMLModel",
          "model_module_version": "1.5.0",
          "state": {
            "_dom_classes": [],
            "_model_module": "@jupyter-widgets/controls",
            "_model_module_version": "1.5.0",
            "_model_name": "HTMLModel",
            "_view_count": null,
            "_view_module": "@jupyter-widgets/controls",
            "_view_module_version": "1.5.0",
            "_view_name": "HTMLView",
            "description": "",
            "description_tooltip": null,
            "layout": "IPY_MODEL_4fb232c5db6c4a4fa4d1fbfdd70e093d",
            "placeholder": "​",
            "style": "IPY_MODEL_e0e5201da33b4ddeadeaec21e832a66b",
            "value": " 48.0/48.0 [00:00&lt;00:00, 5.57kB/s]"
          }
        },
        "0cb5f6ec850d4d9cb00631e65f6f8fe7": {
          "model_module": "@jupyter-widgets/base",
          "model_name": "LayoutModel",
          "model_module_version": "1.2.0",
          "state": {
            "_model_module": "@jupyter-widgets/base",
            "_model_module_version": "1.2.0",
            "_model_name": "LayoutModel",
            "_view_count": null,
            "_view_module": "@jupyter-widgets/base",
            "_view_module_version": "1.2.0",
            "_view_name": "LayoutView",
            "align_content": null,
            "align_items": null,
            "align_self": null,
            "border": null,
            "bottom": null,
            "display": null,
            "flex": null,
            "flex_flow": null,
            "grid_area": null,
            "grid_auto_columns": null,
            "grid_auto_flow": null,
            "grid_auto_rows": null,
            "grid_column": null,
            "grid_gap": null,
            "grid_row": null,
            "grid_template_areas": null,
            "grid_template_columns": null,
            "grid_template_rows": null,
            "height": null,
            "justify_content": null,
            "justify_items": null,
            "left": null,
            "margin": null,
            "max_height": null,
            "max_width": null,
            "min_height": null,
            "min_width": null,
            "object_fit": null,
            "object_position": null,
            "order": null,
            "overflow": null,
            "overflow_x": null,
            "overflow_y": null,
            "padding": null,
            "right": null,
            "top": null,
            "visibility": null,
            "width": null
          }
        },
        "429e7feb322d4ed68a2cecf7c6064017": {
          "model_module": "@jupyter-widgets/base",
          "model_name": "LayoutModel",
          "model_module_version": "1.2.0",
          "state": {
            "_model_module": "@jupyter-widgets/base",
            "_model_module_version": "1.2.0",
            "_model_name": "LayoutModel",
            "_view_count": null,
            "_view_module": "@jupyter-widgets/base",
            "_view_module_version": "1.2.0",
            "_view_name": "LayoutView",
            "align_content": null,
            "align_items": null,
            "align_self": null,
            "border": null,
            "bottom": null,
            "display": null,
            "flex": null,
            "flex_flow": null,
            "grid_area": null,
            "grid_auto_columns": null,
            "grid_auto_flow": null,
            "grid_auto_rows": null,
            "grid_column": null,
            "grid_gap": null,
            "grid_row": null,
            "grid_template_areas": null,
            "grid_template_columns": null,
            "grid_template_rows": null,
            "height": null,
            "justify_content": null,
            "justify_items": null,
            "left": null,
            "margin": null,
            "max_height": null,
            "max_width": null,
            "min_height": null,
            "min_width": null,
            "object_fit": null,
            "object_position": null,
            "order": null,
            "overflow": null,
            "overflow_x": null,
            "overflow_y": null,
            "padding": null,
            "right": null,
            "top": null,
            "visibility": null,
            "width": null
          }
        },
        "ff83880cdf6d4d9cb754cecaeafbb92f": {
          "model_module": "@jupyter-widgets/controls",
          "model_name": "DescriptionStyleModel",
          "model_module_version": "1.5.0",
          "state": {
            "_model_module": "@jupyter-widgets/controls",
            "_model_module_version": "1.5.0",
            "_model_name": "DescriptionStyleModel",
            "_view_count": null,
            "_view_module": "@jupyter-widgets/base",
            "_view_module_version": "1.2.0",
            "_view_name": "StyleView",
            "description_width": ""
          }
        },
        "52eecf458891405b80b3eb4e3bc01350": {
          "model_module": "@jupyter-widgets/base",
          "model_name": "LayoutModel",
          "model_module_version": "1.2.0",
          "state": {
            "_model_module": "@jupyter-widgets/base",
            "_model_module_version": "1.2.0",
            "_model_name": "LayoutModel",
            "_view_count": null,
            "_view_module": "@jupyter-widgets/base",
            "_view_module_version": "1.2.0",
            "_view_name": "LayoutView",
            "align_content": null,
            "align_items": null,
            "align_self": null,
            "border": null,
            "bottom": null,
            "display": null,
            "flex": null,
            "flex_flow": null,
            "grid_area": null,
            "grid_auto_columns": null,
            "grid_auto_flow": null,
            "grid_auto_rows": null,
            "grid_column": null,
            "grid_gap": null,
            "grid_row": null,
            "grid_template_areas": null,
            "grid_template_columns": null,
            "grid_template_rows": null,
            "height": null,
            "justify_content": null,
            "justify_items": null,
            "left": null,
            "margin": null,
            "max_height": null,
            "max_width": null,
            "min_height": null,
            "min_width": null,
            "object_fit": null,
            "object_position": null,
            "order": null,
            "overflow": null,
            "overflow_x": null,
            "overflow_y": null,
            "padding": null,
            "right": null,
            "top": null,
            "visibility": null,
            "width": null
          }
        },
        "61152af269f74574ba0d79445ade123d": {
          "model_module": "@jupyter-widgets/controls",
          "model_name": "ProgressStyleModel",
          "model_module_version": "1.5.0",
          "state": {
            "_model_module": "@jupyter-widgets/controls",
            "_model_module_version": "1.5.0",
            "_model_name": "ProgressStyleModel",
            "_view_count": null,
            "_view_module": "@jupyter-widgets/base",
            "_view_module_version": "1.2.0",
            "_view_name": "StyleView",
            "bar_color": null,
            "description_width": ""
          }
        },
        "4fb232c5db6c4a4fa4d1fbfdd70e093d": {
          "model_module": "@jupyter-widgets/base",
          "model_name": "LayoutModel",
          "model_module_version": "1.2.0",
          "state": {
            "_model_module": "@jupyter-widgets/base",
            "_model_module_version": "1.2.0",
            "_model_name": "LayoutModel",
            "_view_count": null,
            "_view_module": "@jupyter-widgets/base",
            "_view_module_version": "1.2.0",
            "_view_name": "LayoutView",
            "align_content": null,
            "align_items": null,
            "align_self": null,
            "border": null,
            "bottom": null,
            "display": null,
            "flex": null,
            "flex_flow": null,
            "grid_area": null,
            "grid_auto_columns": null,
            "grid_auto_flow": null,
            "grid_auto_rows": null,
            "grid_column": null,
            "grid_gap": null,
            "grid_row": null,
            "grid_template_areas": null,
            "grid_template_columns": null,
            "grid_template_rows": null,
            "height": null,
            "justify_content": null,
            "justify_items": null,
            "left": null,
            "margin": null,
            "max_height": null,
            "max_width": null,
            "min_height": null,
            "min_width": null,
            "object_fit": null,
            "object_position": null,
            "order": null,
            "overflow": null,
            "overflow_x": null,
            "overflow_y": null,
            "padding": null,
            "right": null,
            "top": null,
            "visibility": null,
            "width": null
          }
        },
        "e0e5201da33b4ddeadeaec21e832a66b": {
          "model_module": "@jupyter-widgets/controls",
          "model_name": "DescriptionStyleModel",
          "model_module_version": "1.5.0",
          "state": {
            "_model_module": "@jupyter-widgets/controls",
            "_model_module_version": "1.5.0",
            "_model_name": "DescriptionStyleModel",
            "_view_count": null,
            "_view_module": "@jupyter-widgets/base",
            "_view_module_version": "1.2.0",
            "_view_name": "StyleView",
            "description_width": ""
          }
        },
        "ea0b9d406a604b37a8266cef5b19fe68": {
          "model_module": "@jupyter-widgets/controls",
          "model_name": "HBoxModel",
          "model_module_version": "1.5.0",
          "state": {
            "_dom_classes": [],
            "_model_module": "@jupyter-widgets/controls",
            "_model_module_version": "1.5.0",
            "_model_name": "HBoxModel",
            "_view_count": null,
            "_view_module": "@jupyter-widgets/controls",
            "_view_module_version": "1.5.0",
            "_view_name": "HBoxView",
            "box_style": "",
            "children": [
              "IPY_MODEL_8230876ba0ed4398bddcede886972b77",
              "IPY_MODEL_fcdc500cf6954966b4954c08a8b6b3ec",
              "IPY_MODEL_9bc810415d644317b7788f5c8167efef"
            ],
            "layout": "IPY_MODEL_99d9892a256a4b0eb7c626518e7ee3b0"
          }
        },
        "8230876ba0ed4398bddcede886972b77": {
          "model_module": "@jupyter-widgets/controls",
          "model_name": "HTMLModel",
          "model_module_version": "1.5.0",
          "state": {
            "_dom_classes": [],
            "_model_module": "@jupyter-widgets/controls",
            "_model_module_version": "1.5.0",
            "_model_name": "HTMLModel",
            "_view_count": null,
            "_view_module": "@jupyter-widgets/controls",
            "_view_module_version": "1.5.0",
            "_view_name": "HTMLView",
            "description": "",
            "description_tooltip": null,
            "layout": "IPY_MODEL_1141a894d8ff42b68ca9c4d3d1d938f2",
            "placeholder": "​",
            "style": "IPY_MODEL_aec1f3d405c64935a90f28871fa00383",
            "value": "vocab.txt: 100%"
          }
        },
        "fcdc500cf6954966b4954c08a8b6b3ec": {
          "model_module": "@jupyter-widgets/controls",
          "model_name": "FloatProgressModel",
          "model_module_version": "1.5.0",
          "state": {
            "_dom_classes": [],
            "_model_module": "@jupyter-widgets/controls",
            "_model_module_version": "1.5.0",
            "_model_name": "FloatProgressModel",
            "_view_count": null,
            "_view_module": "@jupyter-widgets/controls",
            "_view_module_version": "1.5.0",
            "_view_name": "ProgressView",
            "bar_style": "success",
            "description": "",
            "description_tooltip": null,
            "layout": "IPY_MODEL_94350475977a4d7d95abe797a2612e1d",
            "max": 231508,
            "min": 0,
            "orientation": "horizontal",
            "style": "IPY_MODEL_c885a99f4c5b475dace437544c48922c",
            "value": 231508
          }
        },
        "9bc810415d644317b7788f5c8167efef": {
          "model_module": "@jupyter-widgets/controls",
          "model_name": "HTMLModel",
          "model_module_version": "1.5.0",
          "state": {
            "_dom_classes": [],
            "_model_module": "@jupyter-widgets/controls",
            "_model_module_version": "1.5.0",
            "_model_name": "HTMLModel",
            "_view_count": null,
            "_view_module": "@jupyter-widgets/controls",
            "_view_module_version": "1.5.0",
            "_view_name": "HTMLView",
            "description": "",
            "description_tooltip": null,
            "layout": "IPY_MODEL_2142bc73aedc42c0ad2cdc6e18602e36",
            "placeholder": "​",
            "style": "IPY_MODEL_87e24966b1c0488d8b2659f570887833",
            "value": " 232k/232k [00:00&lt;00:00, 5.01MB/s]"
          }
        },
        "99d9892a256a4b0eb7c626518e7ee3b0": {
          "model_module": "@jupyter-widgets/base",
          "model_name": "LayoutModel",
          "model_module_version": "1.2.0",
          "state": {
            "_model_module": "@jupyter-widgets/base",
            "_model_module_version": "1.2.0",
            "_model_name": "LayoutModel",
            "_view_count": null,
            "_view_module": "@jupyter-widgets/base",
            "_view_module_version": "1.2.0",
            "_view_name": "LayoutView",
            "align_content": null,
            "align_items": null,
            "align_self": null,
            "border": null,
            "bottom": null,
            "display": null,
            "flex": null,
            "flex_flow": null,
            "grid_area": null,
            "grid_auto_columns": null,
            "grid_auto_flow": null,
            "grid_auto_rows": null,
            "grid_column": null,
            "grid_gap": null,
            "grid_row": null,
            "grid_template_areas": null,
            "grid_template_columns": null,
            "grid_template_rows": null,
            "height": null,
            "justify_content": null,
            "justify_items": null,
            "left": null,
            "margin": null,
            "max_height": null,
            "max_width": null,
            "min_height": null,
            "min_width": null,
            "object_fit": null,
            "object_position": null,
            "order": null,
            "overflow": null,
            "overflow_x": null,
            "overflow_y": null,
            "padding": null,
            "right": null,
            "top": null,
            "visibility": null,
            "width": null
          }
        },
        "1141a894d8ff42b68ca9c4d3d1d938f2": {
          "model_module": "@jupyter-widgets/base",
          "model_name": "LayoutModel",
          "model_module_version": "1.2.0",
          "state": {
            "_model_module": "@jupyter-widgets/base",
            "_model_module_version": "1.2.0",
            "_model_name": "LayoutModel",
            "_view_count": null,
            "_view_module": "@jupyter-widgets/base",
            "_view_module_version": "1.2.0",
            "_view_name": "LayoutView",
            "align_content": null,
            "align_items": null,
            "align_self": null,
            "border": null,
            "bottom": null,
            "display": null,
            "flex": null,
            "flex_flow": null,
            "grid_area": null,
            "grid_auto_columns": null,
            "grid_auto_flow": null,
            "grid_auto_rows": null,
            "grid_column": null,
            "grid_gap": null,
            "grid_row": null,
            "grid_template_areas": null,
            "grid_template_columns": null,
            "grid_template_rows": null,
            "height": null,
            "justify_content": null,
            "justify_items": null,
            "left": null,
            "margin": null,
            "max_height": null,
            "max_width": null,
            "min_height": null,
            "min_width": null,
            "object_fit": null,
            "object_position": null,
            "order": null,
            "overflow": null,
            "overflow_x": null,
            "overflow_y": null,
            "padding": null,
            "right": null,
            "top": null,
            "visibility": null,
            "width": null
          }
        },
        "aec1f3d405c64935a90f28871fa00383": {
          "model_module": "@jupyter-widgets/controls",
          "model_name": "DescriptionStyleModel",
          "model_module_version": "1.5.0",
          "state": {
            "_model_module": "@jupyter-widgets/controls",
            "_model_module_version": "1.5.0",
            "_model_name": "DescriptionStyleModel",
            "_view_count": null,
            "_view_module": "@jupyter-widgets/base",
            "_view_module_version": "1.2.0",
            "_view_name": "StyleView",
            "description_width": ""
          }
        },
        "94350475977a4d7d95abe797a2612e1d": {
          "model_module": "@jupyter-widgets/base",
          "model_name": "LayoutModel",
          "model_module_version": "1.2.0",
          "state": {
            "_model_module": "@jupyter-widgets/base",
            "_model_module_version": "1.2.0",
            "_model_name": "LayoutModel",
            "_view_count": null,
            "_view_module": "@jupyter-widgets/base",
            "_view_module_version": "1.2.0",
            "_view_name": "LayoutView",
            "align_content": null,
            "align_items": null,
            "align_self": null,
            "border": null,
            "bottom": null,
            "display": null,
            "flex": null,
            "flex_flow": null,
            "grid_area": null,
            "grid_auto_columns": null,
            "grid_auto_flow": null,
            "grid_auto_rows": null,
            "grid_column": null,
            "grid_gap": null,
            "grid_row": null,
            "grid_template_areas": null,
            "grid_template_columns": null,
            "grid_template_rows": null,
            "height": null,
            "justify_content": null,
            "justify_items": null,
            "left": null,
            "margin": null,
            "max_height": null,
            "max_width": null,
            "min_height": null,
            "min_width": null,
            "object_fit": null,
            "object_position": null,
            "order": null,
            "overflow": null,
            "overflow_x": null,
            "overflow_y": null,
            "padding": null,
            "right": null,
            "top": null,
            "visibility": null,
            "width": null
          }
        },
        "c885a99f4c5b475dace437544c48922c": {
          "model_module": "@jupyter-widgets/controls",
          "model_name": "ProgressStyleModel",
          "model_module_version": "1.5.0",
          "state": {
            "_model_module": "@jupyter-widgets/controls",
            "_model_module_version": "1.5.0",
            "_model_name": "ProgressStyleModel",
            "_view_count": null,
            "_view_module": "@jupyter-widgets/base",
            "_view_module_version": "1.2.0",
            "_view_name": "StyleView",
            "bar_color": null,
            "description_width": ""
          }
        },
        "2142bc73aedc42c0ad2cdc6e18602e36": {
          "model_module": "@jupyter-widgets/base",
          "model_name": "LayoutModel",
          "model_module_version": "1.2.0",
          "state": {
            "_model_module": "@jupyter-widgets/base",
            "_model_module_version": "1.2.0",
            "_model_name": "LayoutModel",
            "_view_count": null,
            "_view_module": "@jupyter-widgets/base",
            "_view_module_version": "1.2.0",
            "_view_name": "LayoutView",
            "align_content": null,
            "align_items": null,
            "align_self": null,
            "border": null,
            "bottom": null,
            "display": null,
            "flex": null,
            "flex_flow": null,
            "grid_area": null,
            "grid_auto_columns": null,
            "grid_auto_flow": null,
            "grid_auto_rows": null,
            "grid_column": null,
            "grid_gap": null,
            "grid_row": null,
            "grid_template_areas": null,
            "grid_template_columns": null,
            "grid_template_rows": null,
            "height": null,
            "justify_content": null,
            "justify_items": null,
            "left": null,
            "margin": null,
            "max_height": null,
            "max_width": null,
            "min_height": null,
            "min_width": null,
            "object_fit": null,
            "object_position": null,
            "order": null,
            "overflow": null,
            "overflow_x": null,
            "overflow_y": null,
            "padding": null,
            "right": null,
            "top": null,
            "visibility": null,
            "width": null
          }
        },
        "87e24966b1c0488d8b2659f570887833": {
          "model_module": "@jupyter-widgets/controls",
          "model_name": "DescriptionStyleModel",
          "model_module_version": "1.5.0",
          "state": {
            "_model_module": "@jupyter-widgets/controls",
            "_model_module_version": "1.5.0",
            "_model_name": "DescriptionStyleModel",
            "_view_count": null,
            "_view_module": "@jupyter-widgets/base",
            "_view_module_version": "1.2.0",
            "_view_name": "StyleView",
            "description_width": ""
          }
        },
        "4b229d37c8f44a2ebea03aca883846c1": {
          "model_module": "@jupyter-widgets/controls",
          "model_name": "HBoxModel",
          "model_module_version": "1.5.0",
          "state": {
            "_dom_classes": [],
            "_model_module": "@jupyter-widgets/controls",
            "_model_module_version": "1.5.0",
            "_model_name": "HBoxModel",
            "_view_count": null,
            "_view_module": "@jupyter-widgets/controls",
            "_view_module_version": "1.5.0",
            "_view_name": "HBoxView",
            "box_style": "",
            "children": [
              "IPY_MODEL_4385eaf998634f2082d04a2c2b25e05d",
              "IPY_MODEL_b6592e423f2d44218e17018d4816e44d",
              "IPY_MODEL_fcbfd1a6afd84eedac29e628aabff0a7"
            ],
            "layout": "IPY_MODEL_0d0bfd1e6c8a4610a8c335499ab8ea49"
          }
        },
        "4385eaf998634f2082d04a2c2b25e05d": {
          "model_module": "@jupyter-widgets/controls",
          "model_name": "HTMLModel",
          "model_module_version": "1.5.0",
          "state": {
            "_dom_classes": [],
            "_model_module": "@jupyter-widgets/controls",
            "_model_module_version": "1.5.0",
            "_model_name": "HTMLModel",
            "_view_count": null,
            "_view_module": "@jupyter-widgets/controls",
            "_view_module_version": "1.5.0",
            "_view_name": "HTMLView",
            "description": "",
            "description_tooltip": null,
            "layout": "IPY_MODEL_bf25314678bb4a11990fdbd265ee9541",
            "placeholder": "​",
            "style": "IPY_MODEL_cd19402c56f34fbe8f6cc676f5f6ee9e",
            "value": "tokenizer.json: 100%"
          }
        },
        "b6592e423f2d44218e17018d4816e44d": {
          "model_module": "@jupyter-widgets/controls",
          "model_name": "FloatProgressModel",
          "model_module_version": "1.5.0",
          "state": {
            "_dom_classes": [],
            "_model_module": "@jupyter-widgets/controls",
            "_model_module_version": "1.5.0",
            "_model_name": "FloatProgressModel",
            "_view_count": null,
            "_view_module": "@jupyter-widgets/controls",
            "_view_module_version": "1.5.0",
            "_view_name": "ProgressView",
            "bar_style": "success",
            "description": "",
            "description_tooltip": null,
            "layout": "IPY_MODEL_dc1af4ebf89f4b94abf480c4601d505a",
            "max": 466062,
            "min": 0,
            "orientation": "horizontal",
            "style": "IPY_MODEL_03ecc93d1f9a483da19fc5179a59b948",
            "value": 466062
          }
        },
        "fcbfd1a6afd84eedac29e628aabff0a7": {
          "model_module": "@jupyter-widgets/controls",
          "model_name": "HTMLModel",
          "model_module_version": "1.5.0",
          "state": {
            "_dom_classes": [],
            "_model_module": "@jupyter-widgets/controls",
            "_model_module_version": "1.5.0",
            "_model_name": "HTMLModel",
            "_view_count": null,
            "_view_module": "@jupyter-widgets/controls",
            "_view_module_version": "1.5.0",
            "_view_name": "HTMLView",
            "description": "",
            "description_tooltip": null,
            "layout": "IPY_MODEL_9db727b158e84b21a856871354103bdf",
            "placeholder": "​",
            "style": "IPY_MODEL_d2fa7e9529f44fb288cdbdf5aa232811",
            "value": " 466k/466k [00:00&lt;00:00, 2.18MB/s]"
          }
        },
        "0d0bfd1e6c8a4610a8c335499ab8ea49": {
          "model_module": "@jupyter-widgets/base",
          "model_name": "LayoutModel",
          "model_module_version": "1.2.0",
          "state": {
            "_model_module": "@jupyter-widgets/base",
            "_model_module_version": "1.2.0",
            "_model_name": "LayoutModel",
            "_view_count": null,
            "_view_module": "@jupyter-widgets/base",
            "_view_module_version": "1.2.0",
            "_view_name": "LayoutView",
            "align_content": null,
            "align_items": null,
            "align_self": null,
            "border": null,
            "bottom": null,
            "display": null,
            "flex": null,
            "flex_flow": null,
            "grid_area": null,
            "grid_auto_columns": null,
            "grid_auto_flow": null,
            "grid_auto_rows": null,
            "grid_column": null,
            "grid_gap": null,
            "grid_row": null,
            "grid_template_areas": null,
            "grid_template_columns": null,
            "grid_template_rows": null,
            "height": null,
            "justify_content": null,
            "justify_items": null,
            "left": null,
            "margin": null,
            "max_height": null,
            "max_width": null,
            "min_height": null,
            "min_width": null,
            "object_fit": null,
            "object_position": null,
            "order": null,
            "overflow": null,
            "overflow_x": null,
            "overflow_y": null,
            "padding": null,
            "right": null,
            "top": null,
            "visibility": null,
            "width": null
          }
        },
        "bf25314678bb4a11990fdbd265ee9541": {
          "model_module": "@jupyter-widgets/base",
          "model_name": "LayoutModel",
          "model_module_version": "1.2.0",
          "state": {
            "_model_module": "@jupyter-widgets/base",
            "_model_module_version": "1.2.0",
            "_model_name": "LayoutModel",
            "_view_count": null,
            "_view_module": "@jupyter-widgets/base",
            "_view_module_version": "1.2.0",
            "_view_name": "LayoutView",
            "align_content": null,
            "align_items": null,
            "align_self": null,
            "border": null,
            "bottom": null,
            "display": null,
            "flex": null,
            "flex_flow": null,
            "grid_area": null,
            "grid_auto_columns": null,
            "grid_auto_flow": null,
            "grid_auto_rows": null,
            "grid_column": null,
            "grid_gap": null,
            "grid_row": null,
            "grid_template_areas": null,
            "grid_template_columns": null,
            "grid_template_rows": null,
            "height": null,
            "justify_content": null,
            "justify_items": null,
            "left": null,
            "margin": null,
            "max_height": null,
            "max_width": null,
            "min_height": null,
            "min_width": null,
            "object_fit": null,
            "object_position": null,
            "order": null,
            "overflow": null,
            "overflow_x": null,
            "overflow_y": null,
            "padding": null,
            "right": null,
            "top": null,
            "visibility": null,
            "width": null
          }
        },
        "cd19402c56f34fbe8f6cc676f5f6ee9e": {
          "model_module": "@jupyter-widgets/controls",
          "model_name": "DescriptionStyleModel",
          "model_module_version": "1.5.0",
          "state": {
            "_model_module": "@jupyter-widgets/controls",
            "_model_module_version": "1.5.0",
            "_model_name": "DescriptionStyleModel",
            "_view_count": null,
            "_view_module": "@jupyter-widgets/base",
            "_view_module_version": "1.2.0",
            "_view_name": "StyleView",
            "description_width": ""
          }
        },
        "dc1af4ebf89f4b94abf480c4601d505a": {
          "model_module": "@jupyter-widgets/base",
          "model_name": "LayoutModel",
          "model_module_version": "1.2.0",
          "state": {
            "_model_module": "@jupyter-widgets/base",
            "_model_module_version": "1.2.0",
            "_model_name": "LayoutModel",
            "_view_count": null,
            "_view_module": "@jupyter-widgets/base",
            "_view_module_version": "1.2.0",
            "_view_name": "LayoutView",
            "align_content": null,
            "align_items": null,
            "align_self": null,
            "border": null,
            "bottom": null,
            "display": null,
            "flex": null,
            "flex_flow": null,
            "grid_area": null,
            "grid_auto_columns": null,
            "grid_auto_flow": null,
            "grid_auto_rows": null,
            "grid_column": null,
            "grid_gap": null,
            "grid_row": null,
            "grid_template_areas": null,
            "grid_template_columns": null,
            "grid_template_rows": null,
            "height": null,
            "justify_content": null,
            "justify_items": null,
            "left": null,
            "margin": null,
            "max_height": null,
            "max_width": null,
            "min_height": null,
            "min_width": null,
            "object_fit": null,
            "object_position": null,
            "order": null,
            "overflow": null,
            "overflow_x": null,
            "overflow_y": null,
            "padding": null,
            "right": null,
            "top": null,
            "visibility": null,
            "width": null
          }
        },
        "03ecc93d1f9a483da19fc5179a59b948": {
          "model_module": "@jupyter-widgets/controls",
          "model_name": "ProgressStyleModel",
          "model_module_version": "1.5.0",
          "state": {
            "_model_module": "@jupyter-widgets/controls",
            "_model_module_version": "1.5.0",
            "_model_name": "ProgressStyleModel",
            "_view_count": null,
            "_view_module": "@jupyter-widgets/base",
            "_view_module_version": "1.2.0",
            "_view_name": "StyleView",
            "bar_color": null,
            "description_width": ""
          }
        },
        "9db727b158e84b21a856871354103bdf": {
          "model_module": "@jupyter-widgets/base",
          "model_name": "LayoutModel",
          "model_module_version": "1.2.0",
          "state": {
            "_model_module": "@jupyter-widgets/base",
            "_model_module_version": "1.2.0",
            "_model_name": "LayoutModel",
            "_view_count": null,
            "_view_module": "@jupyter-widgets/base",
            "_view_module_version": "1.2.0",
            "_view_name": "LayoutView",
            "align_content": null,
            "align_items": null,
            "align_self": null,
            "border": null,
            "bottom": null,
            "display": null,
            "flex": null,
            "flex_flow": null,
            "grid_area": null,
            "grid_auto_columns": null,
            "grid_auto_flow": null,
            "grid_auto_rows": null,
            "grid_column": null,
            "grid_gap": null,
            "grid_row": null,
            "grid_template_areas": null,
            "grid_template_columns": null,
            "grid_template_rows": null,
            "height": null,
            "justify_content": null,
            "justify_items": null,
            "left": null,
            "margin": null,
            "max_height": null,
            "max_width": null,
            "min_height": null,
            "min_width": null,
            "object_fit": null,
            "object_position": null,
            "order": null,
            "overflow": null,
            "overflow_x": null,
            "overflow_y": null,
            "padding": null,
            "right": null,
            "top": null,
            "visibility": null,
            "width": null
          }
        },
        "d2fa7e9529f44fb288cdbdf5aa232811": {
          "model_module": "@jupyter-widgets/controls",
          "model_name": "DescriptionStyleModel",
          "model_module_version": "1.5.0",
          "state": {
            "_model_module": "@jupyter-widgets/controls",
            "_model_module_version": "1.5.0",
            "_model_name": "DescriptionStyleModel",
            "_view_count": null,
            "_view_module": "@jupyter-widgets/base",
            "_view_module_version": "1.2.0",
            "_view_name": "StyleView",
            "description_width": ""
          }
        }
      }
    }
  },
  "cells": [
    {
      "cell_type": "markdown",
      "metadata": {
        "id": "view-in-github",
        "colab_type": "text"
      },
      "source": [
        "<a href=\"https://colab.research.google.com/github/Franklyn-SWE/Body-Adiposity-Index-Calculator/blob/main/Copy_of_coercion_model_using_BERT_version_2.ipynb\" target=\"_parent\"><img src=\"https://colab.research.google.com/assets/colab-badge.svg\" alt=\"Open In Colab\"/></a>"
      ]
    },
    {
      "cell_type": "code",
      "execution_count": null,
      "metadata": {
        "id": "9VwQBx_eoyfb"
      },
      "outputs": [],
      "source": [
        "from transformers import BertForSequenceClassification\n",
        "\n"
      ]
    },
    {
      "cell_type": "code",
      "source": [
        "#Importing librabries\n",
        "import pandas as pd\n",
        "import torch\n",
        "from sklearn.model_selection import train_test_split\n",
        "#from transformers import DistilBERTTokenizerFast\n",
        "from transformers import DistilBertTokenizer\n",
        "import numpy as np\n",
        "\n",
        "import re\n",
        "import nltk\n",
        "from nltk.corpus import stopwords\n",
        "from nltk.tokenize import word_tokenize\n",
        "\n",
        "nltk.download('stopwords')\n",
        "nltk.download('punkt')\n",
        "\n",
        "import imblearn\n",
        "from imblearn.over_sampling import SMOTE\n",
        "from sklearn.model_selection import train_test_split\n",
        "\n",
        "from sklearn.feature_extraction.text import TfidfVectorizer\n",
        "from sklearn.linear_model import LogisticRegression\n",
        "from sklearn.multiclass import OneVsRestClassifier\n",
        "\n",
        "\n",
        "from sklearn.preprocessing import MultiLabelBinarizer\n"
      ],
      "metadata": {
        "colab": {
          "base_uri": "https://localhost:8080/"
        },
        "id": "pX3GQ6gp415D",
        "outputId": "ce0b1ff7-29ff-43da-c70a-f487971bd2ad"
      },
      "execution_count": null,
      "outputs": [
        {
          "output_type": "stream",
          "name": "stderr",
          "text": [
            "[nltk_data] Downloading package stopwords to /root/nltk_data...\n",
            "[nltk_data]   Unzipping corpora/stopwords.zip.\n",
            "[nltk_data] Downloading package punkt to /root/nltk_data...\n",
            "[nltk_data]   Unzipping tokenizers/punkt.zip.\n"
          ]
        }
      ]
    },
    {
      "cell_type": "code",
      "source": [
        "# Importing the first dataset\n",
        "from pandas import json_normalize\n",
        "import json\n",
        "\n",
        "# Loading JSON data\n",
        "with open('/content/enrichments.articles.json') as f:\n",
        "    data = json.load(f)\n",
        "\n",
        "# Flatten the JSON data\n",
        "enrich_df = json_normalize(data)\n",
        "print(enrich_df.head(2))  # Display the first 2 rows"
      ],
      "metadata": {
        "colab": {
          "base_uri": "https://localhost:8080/"
        },
        "id": "OdRQaZIA8N8P",
        "outputId": "e96add5d-1a30-4fb5-c8a2-dc4fdd0c9022"
      },
      "execution_count": null,
      "outputs": [
        {
          "output_type": "stream",
          "name": "stdout",
          "text": [
            "                                                 url  isWayBack  \\\n",
            "0  https://www.watfordobserver.co.uk/news/nationa...      False   \n",
            "1  https://omaha.com/news/state-regional/crime-co...      False   \n",
            "\n",
            "                                               title  \\\n",
            "0  Gang of five convicted of human trafficking an...   \n",
            "1  Nebraska officials again sound alarm on human ...   \n",
            "\n",
            "                                             article  isValid  \\\n",
            "0  At the High Court in Glasgow on Thursday, Mari...     True   \n",
            "1  LINCOLN — State and federal law enforcement of...     True   \n",
            "\n",
            "                               article_hash  \\\n",
            "0  a5432c46ff2d91b2d63ccab16be6e1bfcd53df88   \n",
            "1  815229d337dd3481cbe7d29aff71b0743668f3c1   \n",
            "\n",
            "                                             summary publish_date  crawl_date  \\\n",
            "0  Detectives said the gang, originally from Roma...   2025-01-09  2025-01-10   \n",
            "1  LINCOLN — State and federal law enforcement of...          NaN  2025-01-10   \n",
            "\n",
            "  gdeltx  ...   tah_ner.Location_Source tah_ner.Victim_Count nlu.Facility  \\\n",
            "0   True  ...                       NaN                  NaN          NaN   \n",
            "1   True  ...  [Nebraska, immunized,  ]                 [12]          NaN   \n",
            "\n",
            "  tah_ner.Victim_Age tah_ner.Victim_Age_Group tah_ner.Trafficker_Gender  wdn  \\\n",
            "0                NaN                      NaN                       NaN  NaN   \n",
            "1                NaN                      NaN                       NaN  NaN   \n",
            "\n",
            "  transport.keys transport.scores  nlu  \n",
            "0            NaN              NaN  NaN  \n",
            "1            NaN              NaN  NaN  \n",
            "\n",
            "[2 rows x 55 columns]\n"
          ]
        }
      ]
    },
    {
      "cell_type": "code",
      "source": [
        "# Importing the second dataset\n",
        "from pandas import json_normalize\n",
        "import json\n",
        "\n",
        "# Load JSON data\n",
        "with open('/content/enrichments.articles-27K.json') as f:\n",
        "    data = json.load(f)\n",
        "\n",
        "# Flatten the JSON data\n",
        "enrich27k_df = json_normalize(data)\n",
        "print(enrich27k_df.head(2))  # Display the first 2 rows"
      ],
      "metadata": {
        "colab": {
          "base_uri": "https://localhost:8080/"
        },
        "id": "TWyr3EBEAozU",
        "outputId": "7d9db59b-1dd2-4454-885f-38355c61b1a6"
      },
      "execution_count": null,
      "outputs": [
        {
          "output_type": "stream",
          "name": "stdout",
          "text": [
            "                                                 url  isWayBack  \\\n",
            "0  https://wibc.com/431751/man-pleads-guilty-afte...      False   \n",
            "1  https://nashvilletnnewssource.com/man-charged-...      False   \n",
            "\n",
            "                                               title  \\\n",
            "0  Man Pleads Guilty After Multiple Charges, Incl...   \n",
            "1  Man charged with 68 counts of distribution of ...   \n",
            "\n",
            "                                             article  isValid  \\\n",
            "0  WESTFIELD — A man who authorities claim used S...     True   \n",
            "1  Reading Time: < 1 minute\\n\\n\\n\\n\\n\\n\\n\\nHOPKIN...     True   \n",
            "\n",
            "                               article_hash  \\\n",
            "0  e23431e095c00360c6040b44813f3a94120fbc73   \n",
            "1  fcc667b56e8e58016ba8aaf27f73580d336d2f46   \n",
            "\n",
            "                                             summary publish_date  \\\n",
            "0  WESTFIELD — A man who authorities claim used S...   2024-08-30   \n",
            "1  The Hopkinsville Police Department said detect...   2024-08-31   \n",
            "\n",
            "             authors  crawl_date  ... tah_ner.Trafficker_Age_Group  \\\n",
            "0    [Jake Mcdaniel]  2024-09-01  ...                      [18-25]   \n",
            "1  [Lainey Steadman]  2024-09-01  ...                          NaN   \n",
            "\n",
            "  tah_ner.Location_Target tah_ner.Trafficker_Origin_Nationality  \\\n",
            "0                     NaN                                   NaN   \n",
            "1                     NaN                                   NaN   \n",
            "\n",
            "  tah_ner.Business_of_Interest tah_ner.Trafficker_Count tah_ner.Victim_Count  \\\n",
            "0                          NaN                      NaN                  NaN   \n",
            "1                          NaN                      NaN                  NaN   \n",
            "\n",
            "  tah_ner.Location_Ref gdeltx tah_ner.Location_Rescued nlu  \n",
            "0                  NaN    NaN                      NaN NaN  \n",
            "1                  NaN    NaN                      NaN NaN  \n",
            "\n",
            "[2 rows x 56 columns]\n"
          ]
        }
      ]
    },
    {
      "cell_type": "code",
      "source": [
        " # Checking the total sum of the missing values in coercion keys\n",
        "print(enrich27k_df['coercion.keys'].isnull().sum())"
      ],
      "metadata": {
        "colab": {
          "base_uri": "https://localhost:8080/"
        },
        "id": "r9vb2WQUAoq3",
        "outputId": "794056b0-1d95-4ead-fd58-ad869062341c"
      },
      "execution_count": null,
      "outputs": [
        {
          "output_type": "stream",
          "name": "stdout",
          "text": [
            "523\n"
          ]
        }
      ]
    },
    {
      "cell_type": "code",
      "source": [
        "# Drop rows with NaN in 'coercion.keys' in place\n",
        "enrich27k_df.dropna(subset=['coercion.keys'], inplace=True)"
      ],
      "metadata": {
        "id": "h3GXaxwiAoho"
      },
      "execution_count": null,
      "outputs": []
    },
    {
      "cell_type": "code",
      "source": [
        "print(enrich27k_df['coercion.keys'].isnull().sum())"
      ],
      "metadata": {
        "colab": {
          "base_uri": "https://localhost:8080/"
        },
        "id": "GzuyC87jAoVV",
        "outputId": "301a59b5-c0e9-4c68-8992-f094fd52154f"
      },
      "execution_count": null,
      "outputs": [
        {
          "output_type": "stream",
          "name": "stdout",
          "text": [
            "0\n"
          ]
        }
      ]
    },
    {
      "cell_type": "code",
      "source": [
        "# Extracting text data\n",
        "new_df2 = enrich27k_df[['article','title','summary']].copy()\n",
        "new_df2.head(2)"
      ],
      "metadata": {
        "colab": {
          "base_uri": "https://localhost:8080/",
          "height": 112
        },
        "id": "_Pb7yAG8BLaP",
        "outputId": "c9bd43b6-ecd8-4fab-d803-4eeb54ae3574"
      },
      "execution_count": null,
      "outputs": [
        {
          "output_type": "execute_result",
          "data": {
            "text/plain": [
              "                                             article  \\\n",
              "0  WESTFIELD — A man who authorities claim used S...   \n",
              "1  Reading Time: < 1 minute\\n\\n\\n\\n\\n\\n\\n\\nHOPKIN...   \n",
              "\n",
              "                                               title  \\\n",
              "0  Man Pleads Guilty After Multiple Charges, Incl...   \n",
              "1  Man charged with 68 counts of distribution of ...   \n",
              "\n",
              "                                             summary  \n",
              "0  WESTFIELD — A man who authorities claim used S...  \n",
              "1  The Hopkinsville Police Department said detect...  "
            ],
            "text/html": [
              "\n",
              "  <div id=\"df-86c43278-7f15-4955-98d4-5cdf4c856e3d\" class=\"colab-df-container\">\n",
              "    <div>\n",
              "<style scoped>\n",
              "    .dataframe tbody tr th:only-of-type {\n",
              "        vertical-align: middle;\n",
              "    }\n",
              "\n",
              "    .dataframe tbody tr th {\n",
              "        vertical-align: top;\n",
              "    }\n",
              "\n",
              "    .dataframe thead th {\n",
              "        text-align: right;\n",
              "    }\n",
              "</style>\n",
              "<table border=\"1\" class=\"dataframe\">\n",
              "  <thead>\n",
              "    <tr style=\"text-align: right;\">\n",
              "      <th></th>\n",
              "      <th>article</th>\n",
              "      <th>title</th>\n",
              "      <th>summary</th>\n",
              "    </tr>\n",
              "  </thead>\n",
              "  <tbody>\n",
              "    <tr>\n",
              "      <th>0</th>\n",
              "      <td>WESTFIELD — A man who authorities claim used S...</td>\n",
              "      <td>Man Pleads Guilty After Multiple Charges, Incl...</td>\n",
              "      <td>WESTFIELD — A man who authorities claim used S...</td>\n",
              "    </tr>\n",
              "    <tr>\n",
              "      <th>1</th>\n",
              "      <td>Reading Time: &lt; 1 minute\\n\\n\\n\\n\\n\\n\\n\\nHOPKIN...</td>\n",
              "      <td>Man charged with 68 counts of distribution of ...</td>\n",
              "      <td>The Hopkinsville Police Department said detect...</td>\n",
              "    </tr>\n",
              "  </tbody>\n",
              "</table>\n",
              "</div>\n",
              "    <div class=\"colab-df-buttons\">\n",
              "\n",
              "  <div class=\"colab-df-container\">\n",
              "    <button class=\"colab-df-convert\" onclick=\"convertToInteractive('df-86c43278-7f15-4955-98d4-5cdf4c856e3d')\"\n",
              "            title=\"Convert this dataframe to an interactive table.\"\n",
              "            style=\"display:none;\">\n",
              "\n",
              "  <svg xmlns=\"http://www.w3.org/2000/svg\" height=\"24px\" viewBox=\"0 -960 960 960\">\n",
              "    <path d=\"M120-120v-720h720v720H120Zm60-500h600v-160H180v160Zm220 220h160v-160H400v160Zm0 220h160v-160H400v160ZM180-400h160v-160H180v160Zm440 0h160v-160H620v160ZM180-180h160v-160H180v160Zm440 0h160v-160H620v160Z\"/>\n",
              "  </svg>\n",
              "    </button>\n",
              "\n",
              "  <style>\n",
              "    .colab-df-container {\n",
              "      display:flex;\n",
              "      gap: 12px;\n",
              "    }\n",
              "\n",
              "    .colab-df-convert {\n",
              "      background-color: #E8F0FE;\n",
              "      border: none;\n",
              "      border-radius: 50%;\n",
              "      cursor: pointer;\n",
              "      display: none;\n",
              "      fill: #1967D2;\n",
              "      height: 32px;\n",
              "      padding: 0 0 0 0;\n",
              "      width: 32px;\n",
              "    }\n",
              "\n",
              "    .colab-df-convert:hover {\n",
              "      background-color: #E2EBFA;\n",
              "      box-shadow: 0px 1px 2px rgba(60, 64, 67, 0.3), 0px 1px 3px 1px rgba(60, 64, 67, 0.15);\n",
              "      fill: #174EA6;\n",
              "    }\n",
              "\n",
              "    .colab-df-buttons div {\n",
              "      margin-bottom: 4px;\n",
              "    }\n",
              "\n",
              "    [theme=dark] .colab-df-convert {\n",
              "      background-color: #3B4455;\n",
              "      fill: #D2E3FC;\n",
              "    }\n",
              "\n",
              "    [theme=dark] .colab-df-convert:hover {\n",
              "      background-color: #434B5C;\n",
              "      box-shadow: 0px 1px 3px 1px rgba(0, 0, 0, 0.15);\n",
              "      filter: drop-shadow(0px 1px 2px rgba(0, 0, 0, 0.3));\n",
              "      fill: #FFFFFF;\n",
              "    }\n",
              "  </style>\n",
              "\n",
              "    <script>\n",
              "      const buttonEl =\n",
              "        document.querySelector('#df-86c43278-7f15-4955-98d4-5cdf4c856e3d button.colab-df-convert');\n",
              "      buttonEl.style.display =\n",
              "        google.colab.kernel.accessAllowed ? 'block' : 'none';\n",
              "\n",
              "      async function convertToInteractive(key) {\n",
              "        const element = document.querySelector('#df-86c43278-7f15-4955-98d4-5cdf4c856e3d');\n",
              "        const dataTable =\n",
              "          await google.colab.kernel.invokeFunction('convertToInteractive',\n",
              "                                                    [key], {});\n",
              "        if (!dataTable) return;\n",
              "\n",
              "        const docLinkHtml = 'Like what you see? Visit the ' +\n",
              "          '<a target=\"_blank\" href=https://colab.research.google.com/notebooks/data_table.ipynb>data table notebook</a>'\n",
              "          + ' to learn more about interactive tables.';\n",
              "        element.innerHTML = '';\n",
              "        dataTable['output_type'] = 'display_data';\n",
              "        await google.colab.output.renderOutput(dataTable, element);\n",
              "        const docLink = document.createElement('div');\n",
              "        docLink.innerHTML = docLinkHtml;\n",
              "        element.appendChild(docLink);\n",
              "      }\n",
              "    </script>\n",
              "  </div>\n",
              "\n",
              "\n",
              "<div id=\"df-2a77cdb7-3fd9-4964-a6d3-80b785059ff4\">\n",
              "  <button class=\"colab-df-quickchart\" onclick=\"quickchart('df-2a77cdb7-3fd9-4964-a6d3-80b785059ff4')\"\n",
              "            title=\"Suggest charts\"\n",
              "            style=\"display:none;\">\n",
              "\n",
              "<svg xmlns=\"http://www.w3.org/2000/svg\" height=\"24px\"viewBox=\"0 0 24 24\"\n",
              "     width=\"24px\">\n",
              "    <g>\n",
              "        <path d=\"M19 3H5c-1.1 0-2 .9-2 2v14c0 1.1.9 2 2 2h14c1.1 0 2-.9 2-2V5c0-1.1-.9-2-2-2zM9 17H7v-7h2v7zm4 0h-2V7h2v10zm4 0h-2v-4h2v4z\"/>\n",
              "    </g>\n",
              "</svg>\n",
              "  </button>\n",
              "\n",
              "<style>\n",
              "  .colab-df-quickchart {\n",
              "      --bg-color: #E8F0FE;\n",
              "      --fill-color: #1967D2;\n",
              "      --hover-bg-color: #E2EBFA;\n",
              "      --hover-fill-color: #174EA6;\n",
              "      --disabled-fill-color: #AAA;\n",
              "      --disabled-bg-color: #DDD;\n",
              "  }\n",
              "\n",
              "  [theme=dark] .colab-df-quickchart {\n",
              "      --bg-color: #3B4455;\n",
              "      --fill-color: #D2E3FC;\n",
              "      --hover-bg-color: #434B5C;\n",
              "      --hover-fill-color: #FFFFFF;\n",
              "      --disabled-bg-color: #3B4455;\n",
              "      --disabled-fill-color: #666;\n",
              "  }\n",
              "\n",
              "  .colab-df-quickchart {\n",
              "    background-color: var(--bg-color);\n",
              "    border: none;\n",
              "    border-radius: 50%;\n",
              "    cursor: pointer;\n",
              "    display: none;\n",
              "    fill: var(--fill-color);\n",
              "    height: 32px;\n",
              "    padding: 0;\n",
              "    width: 32px;\n",
              "  }\n",
              "\n",
              "  .colab-df-quickchart:hover {\n",
              "    background-color: var(--hover-bg-color);\n",
              "    box-shadow: 0 1px 2px rgba(60, 64, 67, 0.3), 0 1px 3px 1px rgba(60, 64, 67, 0.15);\n",
              "    fill: var(--button-hover-fill-color);\n",
              "  }\n",
              "\n",
              "  .colab-df-quickchart-complete:disabled,\n",
              "  .colab-df-quickchart-complete:disabled:hover {\n",
              "    background-color: var(--disabled-bg-color);\n",
              "    fill: var(--disabled-fill-color);\n",
              "    box-shadow: none;\n",
              "  }\n",
              "\n",
              "  .colab-df-spinner {\n",
              "    border: 2px solid var(--fill-color);\n",
              "    border-color: transparent;\n",
              "    border-bottom-color: var(--fill-color);\n",
              "    animation:\n",
              "      spin 1s steps(1) infinite;\n",
              "  }\n",
              "\n",
              "  @keyframes spin {\n",
              "    0% {\n",
              "      border-color: transparent;\n",
              "      border-bottom-color: var(--fill-color);\n",
              "      border-left-color: var(--fill-color);\n",
              "    }\n",
              "    20% {\n",
              "      border-color: transparent;\n",
              "      border-left-color: var(--fill-color);\n",
              "      border-top-color: var(--fill-color);\n",
              "    }\n",
              "    30% {\n",
              "      border-color: transparent;\n",
              "      border-left-color: var(--fill-color);\n",
              "      border-top-color: var(--fill-color);\n",
              "      border-right-color: var(--fill-color);\n",
              "    }\n",
              "    40% {\n",
              "      border-color: transparent;\n",
              "      border-right-color: var(--fill-color);\n",
              "      border-top-color: var(--fill-color);\n",
              "    }\n",
              "    60% {\n",
              "      border-color: transparent;\n",
              "      border-right-color: var(--fill-color);\n",
              "    }\n",
              "    80% {\n",
              "      border-color: transparent;\n",
              "      border-right-color: var(--fill-color);\n",
              "      border-bottom-color: var(--fill-color);\n",
              "    }\n",
              "    90% {\n",
              "      border-color: transparent;\n",
              "      border-bottom-color: var(--fill-color);\n",
              "    }\n",
              "  }\n",
              "</style>\n",
              "\n",
              "  <script>\n",
              "    async function quickchart(key) {\n",
              "      const quickchartButtonEl =\n",
              "        document.querySelector('#' + key + ' button');\n",
              "      quickchartButtonEl.disabled = true;  // To prevent multiple clicks.\n",
              "      quickchartButtonEl.classList.add('colab-df-spinner');\n",
              "      try {\n",
              "        const charts = await google.colab.kernel.invokeFunction(\n",
              "            'suggestCharts', [key], {});\n",
              "      } catch (error) {\n",
              "        console.error('Error during call to suggestCharts:', error);\n",
              "      }\n",
              "      quickchartButtonEl.classList.remove('colab-df-spinner');\n",
              "      quickchartButtonEl.classList.add('colab-df-quickchart-complete');\n",
              "    }\n",
              "    (() => {\n",
              "      let quickchartButtonEl =\n",
              "        document.querySelector('#df-2a77cdb7-3fd9-4964-a6d3-80b785059ff4 button');\n",
              "      quickchartButtonEl.style.display =\n",
              "        google.colab.kernel.accessAllowed ? 'block' : 'none';\n",
              "    })();\n",
              "  </script>\n",
              "</div>\n",
              "\n",
              "    </div>\n",
              "  </div>\n"
            ],
            "application/vnd.google.colaboratory.intrinsic+json": {
              "type": "dataframe",
              "variable_name": "new_df2",
              "summary": "{\n  \"name\": \"new_df2\",\n  \"rows\": 26838,\n  \"fields\": [\n    {\n      \"column\": \"article\",\n      \"properties\": {\n        \"dtype\": \"string\",\n        \"num_unique_values\": 24353,\n        \"samples\": [\n          \"Georgia Man Arrested on Four Counts of Sexual Exploitation of Children After GBI Investigation\\n\\nOn Thursday, September 5, 2024, the Georgia Bureau of Investigation (GBI) Child Exploitation and Computer Crimes (CEACC) Unit arrested 47-year-old Michael Henry from Atkinson County, GA, on four counts of Sexual Exploitation of Children.\\n\\nThe arrest followed an investigation initiated by a Cyber Tipline Report from the National Center for Missing and Exploited Children (NCMEC), which alleged that Henry was involved in the online possession and distribution of child sexual abuse material.\\n\\nThe GBI CEACC Unit executed a search warrant at Henry\\u2019s residence, leading to his arrest. The Atkinson County Sheriff\\u2019s Office and the GBI regional investigative office in Douglas assisted with the search warrant. Henry is currently detained in the Atkinson County Jail.\",\n          \"A second wave of lawsuits from a prominent Houston lawyer were filed against Sean \\u201cDiddy\\u201d Combs Sunday night on behalf of seven more accusers, including four people who claim Combs sexually assaulted them as recently as 2022.\\n\\nOne man, a personal trainer, claims he was drugged on the night the Bad Boy Entertainment founder was honored with the Lifetime Achievement Award at the BET Awards in June 2022. At the after-party celebration, the man claims his unconscious body was passed around \\u201clike a party favor for [Combs\\u2019 guests] sexual enjoyment.\\u201d\\n\\nThe anonymous plaintiffs \\u2014 who are all using a John or Jane Doe pseudonym \\u2014 are being represented by attorney Tony Buzbee, who has said he is representing more than 120 clients against Combs. He filed a first batch of six lawsuits against the mogul last Monday. The latest filings bring the total number of suits against Combs to more than two dozen.\\n\\nIn light of the mounting civil lawsuits and explosive allegations, Combs\\u2019 criminal defense team filed a motion with U.S. District Judge Arun Subramanian on Sunday night, asking for a gag order that would prohibit \\u201cfurther extrajudicial statements from prospective witnesses and their lawyers that substantially interfere with Mr. Combs\\u2019s right to a fair trial.\\u201d\\n\\nThe new lawsuits compound the 54-year-old\\u2019s already extensive legal woes as he sits in a Brooklyn jail awaiting trial on racketeering and sex trafficking charges. The embattled music mogul has pleaded not guilty as his trial is set to begin next May.\\n\\nRepresentatives for Combs referred Rolling Stone to a statement they issued last week, which called Buzbee\\u2019s \\u201cbarrage\\u201d of lawsuits a \\u201cclear attempt to garner publicity.\\u201d \\u201cMr. Combs and his legal team have full confidence in the facts, their legal defenses, and the integrity of the judicial process. In court, the truth will prevail: that Mr. Combs has never sexually assaulted anyone\\u2014adult or minor, man or woman,\\u201d the statement from Combs\\u2019 media team said. Editor\\u2019s picks\\n\\nSunday\\u2019s new lawsuits detail behavior that allegedly took place between 2000 and 2022. One lawsuit comes from a woman who claims she was 13 years old when she was allegedly drugged and sexually assaulted by Combs and an unnamed celebrity following the MTV Video Music Awards in 2000. (Buzbee said unnamed celebrities mentioned in filings are not being formally added as defendants at this time.)\\n\\nThree men and one woman claim Combs assaulted them in 2022. A personal trainer claims he was invited to Combs\\u2019 Holmby Hills mansion after the BET Awards and asked to sign a non-disclosure agreement as a condition of entry into the afterparty. Once the paperwork was signed, the man was handed a cocktail and instructed to take a few sips, the lawsuit states.\\n\\nThe man claims he was brought into a small room where nearly a dozen people were engaging in group-sex activities. After entering the room, the man allegedly began to feel \\u201cdisoriented, dizzy and weak.\\u201d As the man was \\u201crealizing his significant impairment,\\u201d Combs allegedly approached him and \\u201cremoved his pants, and began performing non-consensual oral sex onto him,\\u201d the lawsuit claims.\\n\\nCombs then allegedly directed the man to perform oral sex on an unnamed celebrity, and due to the \\u201chaze of the drug,\\u201d the man \\u201ccould not resist Combs\\u2019 coercion and ordering,\\u201d the lawsuit states. The man claims he lost consciousness at times and eventually woke up outside his apartment with no shirt, no phone and no idea how he got home.\\n\\nAnother plaintiff, a 29-year-old singer, claims she met Combs at a party in the New York City area in December 2022. Throughout the star-studded bash, the woman claims she noticed a widespread use of drugs, which were allegedly being pushed onto guests by people working for Combs. Related\\n\\nCombs was the night\\u2019s host and allegedly approached the singer, striking up a conversation about her career and offering to feature her on a track. At one point, Combs suggested they head into his office to further discuss her music in private, the lawsuit claims.\\n\\nThe singer claims that despite only having one glass of wine, she began to feel disoriented. Once alone in the office and \\u201cdue to the effects of her drugged drink, Combs raped and sexually assaulted Plaintiff,\\u201d the lawsuit claims. \\u201cPlaintiff could not stop him from doing so, as if she was trapped inside her body not participating but not able to resist.\\u201d\\n\\nThe woman claims she awoke the next morning disoriented, with blood on her legs, bruising on her lips and imprints on her arms and wrists, which led her to believe that she had been tied up with ropes. \\u201cAs a result of this incident, Plaintiff has suffered significant emotional distress and trauma,\\u201d the lawsuit claims. \\u201cShe continues to deal with the psychological and emotional consequences of the assault.\\u201d\\n\\nA 17-year-old aspiring singer claims he also met Combs during a penthouse hotel party in Manhattan in 2022. Combs allegedly approached the teen, offered him a drink and \\u201cassured Doe that he could make him a star,\\u201d the lawsuit claims. The singer claims he then began to feel dizzy and confused, and stumbled into a room where people were having group sex.\\n\\nAfter Doe entered the room, Combs approached him, grabbed him, and led him to the bed, forcing him to lie down on the bed against his will,\\u201d the lawsuit claims. \\u201cCombs grabbed Doe\\u2019s penis and genitals with his hand. Combs manipulated Does\\u2019 genitals for an extended period of time, trying to get him aroused.\\u201d\\n\\nThe teen claims he was able to leave the room by saying he needed to use the restroom, having a friend come pick him up. After that night, the teen\\u2019s passion for music was \\u201cshattered\\u201d and he abandoned his dreams of becoming a singer.\\n\\nA third man claims Combs sexually assaulted him during a promotional event for C\\u00eeroc in 2022. The Los Angeles-area businessman claims he knew Combs through renting the mogul luxury cars and fine jewelry. He attended the event to further network and at one point, Combs allegedly brought the man back into his private office, for what he believed was a business conversation. \\u201cIntoxicated and acting strangely,\\u201d Combs allegedly exposed himself before groping the man\\u2019s genitals, according to the complaint. \\u201cThe situation escalated until another individual, Professional Athlete A, entered the office and intervened, which ended the Combs\\u2019 assault,\\u201d the lawsuit claims.\\n\\nIn 2014, a woman claims she met Combs in Las Vegas over Memorial Day weekend, including photos of Combs during an afterparty as part of her filing. After taking a few sips of her C\\u00eeroc vodka drink that was provided by Combs, the woman claims she began to feel nauseated and dizzy.\\n\\n\\u201cThe next thing Plaintiff recalls is waking up the following morning feeling very groggy and sore,\\u201d the lawsuit claims. \\u201cHer entire body hurt, and it felt difficult to move. As soon as she awoke, she saw Combs in the corner of the room, shirtless and yelling loudly and with animation at someone over the phone.\\u201d The woman claims she was \\u201chorrified to realize that she was raped by Combs.\\u201d\\n\\nThe final lawsuit came from a security guard who claims he was 21 years old when met Combs at a Harlem recording studio with his wife in August 2005. During the gathering, Combs allegedly approached the young man and discussed potential work or him. He invited the man to private room and pressured him to drink, according to the lawsuit, allegedly saying, \\u201cWhen do you get to drink with a millionaire?\\u201d\\n\\nThe man claims the drink was drugged, quickly becoming \\u201cdizzy, weak, and confused.\\u201d Combs then allegedly began groping the man. \\u201cPlaintiff tried to resist, but Combs forcefully continued and told him to \\u2018take it easy\\u2019 and \\u2018let it kick in\\u2019 implying that the alcohol or another substance would relax Plaintiff and make him more compliant,\\u201d the lawsuit claims. The alleged assault only stopped when the man\\u2019s wife entered the room and \\u201cintervened.\\u201d\\n\\nWhile Buzbee and his co-counsel, Andrew Van Arsdale, filed their first dozen lawsuits against Combs in federal court in the Southern District of New York, they also filed one in Manhattan Supreme Court late Sunday on behalf of a man who says Combs assaulted him inside a Harlem music studio in 2005. The John Doe alleges he was 21 years old and the owner of a private security firm when Combs allegedly spiked his drink, reached into his pants and \\u201cattempted to masturbate [the man\\u2019s] penis.\\u201d\\n\\nBuzbee and Van Arsdale filed their initial round of lawsuits last week after announcing at a press conference that they had at least 120 clients with what they say were vetted claims against the music mogul. One of the lawsuits was from a man who claimed Combs grabbed his penis and groped him when he was 16 and attended one of Combs\\u2019 \\u201cwhite parties\\u201d in the Hamptons in 1998. The other lawsuits involved two women and two more men bringing separate allegations that Combs sexually assaulted them between 1995 and 2021.\\n\\nLast Tuesday, Combs\\u2019 lawyers filed a letter asking a federal judge to direct prosecutors to reveal the names of the alleged victims in his criminal case. They argued Combs needs to know the names as soon as possible to prepare for his May 2025 trial and because he needs to identify any overlap between the accusers behind the civil lawsuits and the alleged victims linked to his criminal case. They said the clarificaiton is needed so they can respond to Combs\\u2019 civil accusations without running afoul of rules governing what they can say about the criminal case.\\n\\n\\u201cThe government is forcing [Combs], unfairly, to play a guessing game,\\u201d the four-page letter signed by Combs\\u2019 lawyers Marc Agnifilo and Teny Geragos, and obtained by Rolling Stone, read. In the letter, Combs\\u2019 lawyers said the government \\u201copposes disclosure of alleged victims\\u2019 names at this stage.\\u201d A pre-trial hearing in the case is set for Dec. 18.\\n\\nIn his criminal indictment, Combs is accused of having \\u201cabused, threatened, and coerced\\u201d unidentified \\u201cwomen and others around him to fulfill his sexual desires.\\u201d The filing states that Combs engaged in a \\u201cpersistent and pervasive pattern of abuse toward women and other individuals,\\u201d including \\u201cverbal, emotional, physical, and sexual\\u201d abuse. Combs allegedly distributed drugs to his alleged victims to keep them obedient and compliant. Prosecutors were vague in the indictment as to the dates and details of the alleged abuse involving individuals other than Combs\\u2019 ex-girlfriend Casandra \\u201cCassie\\u201d Ventura, who was identified as Victim 1.\\n\\nIf convicted as charged, Combs faces a minimum of 15 years in prison and up to life. Even with good behavior, the onetime billionaire Bad Boy Entertainment founder would likely remain behind bars until at least his late 60s.\\n\\nBefore the first round of Buzbee lawsuits, Combs already was facing a dozen other complaints filed over the last year that allege he subjected people to sexual abuse during his decades-long career as an industry impresario and gatekeeper. The deluge started when Ventura filed her graphic sex-trafficking complaint last November. Combs settled with Ventura for an undisclosed sum within 24 hours, but her 35-page complaint, now the heart of the music mogul\\u2019s criminal prosecution, opened the floodgates. Combs\\u2019 homes were raided in March, and in May, CNN obtained harrowing hotel surveillance video showing Combs throwing, kicking, stomping and dragging Ventura in the hallway of the InterContinental Hotel in Los Angeles in 2016. After first denying Ventura\\u2019s claims against him, Combs issued a video apology related to the incident, admitting his \\u201cbehavior on that video is inexcusable.\\u201d\",\n          \"New York, US\\n\\nReuters\\n\\nThe Roman Catholic Archdiocese of Los Angeles has agreed to pay $US880 million to 1,353 people who alleged that they were sexually abused as children by Catholic priests, in the largest settlement by a US diocese over decades-old abuse claims.\\n\\n\\n\\nArchbishop Jose H Gomez enters for Ash Wednesday mass at Cathedral of Our Lady of the Angels during the outbreak of the coronavirus disease (COVID-19), in Los Angeles, California, US, on 17th February, 2021. PICTURE: Reuters/Mario Anzuon\\n\\nArchbishop Jose H Gomez expressed sorrow for the abuse in announcing the settlement on Wednesday.\\n\\n\\u201cI am sorry for every one of these incidents, from the bottom of my heart,\\u201d Gomez said in a statement. \\u201cMy hope is that this settlement will provide some measure of healing for what these men and women have suffered.\\u201d\\n\\nThe Archdiocese began mediating the abuse claims after California enacted a law that allowed new lawsuits to be based on past instances of sexual abuse involving minors.\\n\\nThe California law and similar laws in other states have driven many large Catholic organisations to seek bankruptcy protection around the US In California, the Archdiocese of San Francisco and the dioceses of Oakland and San Diego have filed for bankruptcy to resolve similar abuse claims.\\n\\nThe Los Angeles Archdiocese reached its settlement without filing for bankruptcy. Gomez said the Archdiocese would be able to pay victims from cash reserves, investments, loans and contributions from other religious organizations that had been named in lawsuits. The payments will not impact the Archdiocese\\u2019s mission of \\u201cserving the poor and vulnerable in our communities,\\u201d Gomez said.\\n\\nAttorneys for the Archdiocese and the Plaintiffs\\u2019 Liaison Counsel representing abuse claimants issued a joint statement on Wednesday thanking survivors for coming forward with their stories and ensuring that similar abuse will not occur in the future.\\n\\n\\u201cWhile there is no amount of money that can replace what was taken from these 1,353 brave individuals who have suffered in silence for decades, there is justice in accountability,\\u201d the Plaintiffs\\u2019 Liaison Counsel said in a joint statement.\"\n        ],\n        \"semantic_type\": \"\",\n        \"description\": \"\"\n      }\n    },\n    {\n      \"column\": \"title\",\n      \"properties\": {\n        \"dtype\": \"string\",\n        \"num_unique_values\": 21748,\n        \"samples\": [\n          \"California barber charged with torturing 6-year-old boy to death after child wet himself at park\",\n          \"MBS issues compounds, seizes items from GISBH business premises in Seremban 2\",\n          \"Taylorsville Man Arrested For Child Porn\"\n        ],\n        \"semantic_type\": \"\",\n        \"description\": \"\"\n      }\n    },\n    {\n      \"column\": \"summary\",\n      \"properties\": {\n        \"dtype\": \"string\",\n        \"num_unique_values\": 23156,\n        \"samples\": [\n          \"The Supreme Court on Tuesday pulled up the National Commission for Protection of Child Rights (NCPCR) over its petition seeking a Special Investigation Team (SIT) probe into cases of children allegedly sold by shelter homes in Jharkhand of the Missionaries of Charity founded by Mother Teresa.\\nThe NCPCR's counsel had submitted that the plea sought the top courts' direction for a time-bound investigation into all the organisations in Jharkhand to ensure protection of the children.\\nThe child rights body alleged discrepancies in children's homes in various states and added them as parties in its plea.\\nThe plea had cited cases of child rights violation in Jharkhand and accused the authorities in the state of a \\u201ccallous approach to protect minors\\u201d.\\nOn September 12, the child rights body slammed the madrasa education system in its submissions before the Supreme Court.\",\n          \"Sexual, Domestic, and Gender-Based Violence (SDGBV) is a pervasive issue, not only in Nigeria, but in many nations of the world, affecting millions of individuals, particularly women and girls.\\nThe female gender has continually been the target of sexual violence, often raped and murdered by criminal elements in the society.\\nAccording to a 2019 report by the World Health Organisation (WHO), about 30% of women experience physical violence in Nigeria while 24% of Nigerian women experience sexual violence.\\nSimilarly, a report by UNICEF in 2017 stated that 45% of girls experience emotional violence in Nigeria, while 1 in 5 girls experience female genital mutilation/cutting (FGM/C).\\nIn another incident, a popular gospel musician Osinachi Nwachukwu was believed to have been a victim of prolonged domestic violence, allegedly in the hands of her husband, Peter Nwachukwu, who was reported to have allegedly beaten and caused fatal internal injuries that later led to her to death.\\nAbout 35 per cent of women globally have experienced domestic abuse in one form or another, according to the United Nations.\\nThe respected medical journal, The Lancet, said domestic violence, \\u201cis a global public health problem, with many short-term and long-term effects, on the physical and mental health of women and their children.\\u201d\\nOne of such International, high profile domestic violence incident was the case of American Singer Chris Brown battery of his then girlfriend and professional colleague, singer Rihanna, who later opted out of the relationship to marry another person.\\nAccording to the National Coalition Against Domestic Violence, a US-based Non-Governmental Organisation (NGO), many victims remain in abusive relationships due to religious and cultural beliefs.\\nSuch counsel thrives in Nigeria and sustains the culture of abuse due to the absence of adequate, well-staffed social welfare departments by state and local governments.\\nIn an Interview with New Telegraph Newspaper, a Lagos-based business woman and entrepreneur, Mrs Oluwaseyi Oduala, noted that domestic violence is often sustained because of Judeo-Christian belief that forbids divorce, encouraging numerous Christian women to continue to stay in abusive relationships.\\nAccording to her, \\u201cMany pastors insist that God hates divorce, therefore, a woman should not divorce her husband, even in the face of constant pain and emotional abuse arising from domestic violence.\\n\\u201cApart from the Christian church, in our culture, women are usually encouraged to stay on in an abusive relationship because of the children.\\nMy advice to any woman who is experiencing an abusive relationship, and is constantly battling domestic violence is to leave.\\nMany women have perished as a result of domestic violence because religious institutions and family urge them to keep on enduring.\\nA cleric from the Living Faith Church in Lagos, Pastor Abiola Olasupo, who spoke with the New Telegraph Newspaper said, \\u201cPeople should not blame the church for domestic violence, although it is written in the Bible that God hates divorce, but the same Bible says that wisdom is profitable to direct.\\nSpeaking further, he said, \\u201cthis issue of domestic violence happened in my life as a child, when my father married two wives and they started fighting.\\nMy father asked the two to go, but both refused, saying they cannot leave their children behind for another woman to abuse.\\nMy advice, as a Christian cleric, for women facing domestic violence, is to be separated from their husbands for a season, to see if they can settle their differences and then they can come back again.\\u201d\\nIn some cultures, domestic violence is still accepted as a way of life instead of a crime.\\nThe prevention of domestic violence requires challenging cultural and social norms that tolerate or excuse it.\\nLocal and state governments should open, expand, generously fund, staff and train, as well as equip social welfare departments and homes for abused children with expert counsellors, therapists and psychologists to help victims recover.\\nIn an interview with New Telegraph Newspaper, Barrister Muniru Shittu of Rosewood Attorneys, located at Victoria Island, Lagos advised anyone experiencing domestic violence to seek legal counsel and if they cannot afford legal services they must report the matter to the police or relevant agencies within the state.\\nIn fact, anyone can be a victim of domestic violence.\\nMen can be victims of domestic violence.\\nMany times, domestic violence is a result of underlying issues in which case, the person must seek therapeutic support.\\nSome men have mental health issues and need help in which case they are victims themselves.\\nIn early 2024, the Lagos State Domestic and Sexual Violence Agency (DSVA) reported a troubling surge in domestic and sexual violence cases, over a 10-month period, between September 2023 and July 2024.\\nThe report released by the DSVA \\u2013 an arm of the Lagos State Ministry of Justice \\u2013 highlighted a dramatic increase in such cases.\\nSince its establishment in September 2021, the DSVA has transitioned from being the Lagos State Domestic and Sexual Violence Response Team to a more dedicated agency focused on combating violence against women and children.\\nIn the period under review, the DSVA recorded a total of 6,456 cases, encompassing domestic violence, sexual assault, child neglect, and other forms of non-gender-based violence (GBV).\\nAccording to the statistics released at the time, out of the total cases, 3,925 involved adults, predominantly women, while 2,531 involved children.\\nDomestic violence was the most prevalent form of abuse reported among adults, accounting for 73% of the cases, with rape comprising 3.5%.\\nFor children, emotional abuse was the most common, representing 76.7% of cases, followed by physical violence at 5.4%.\\nThe report detailed specific figures, including 2,868 cases of domestic violence, 93 cases of rape, 138 cases of attempted rape or sexual assault, and 113 cases of sexual assault by penetration or threat.\\nIt was earlier reported that Lagos was among the top five states with the highest reported cases of SGBV in Nigeria in 2024.\\nWhile states across the country recorded 6,142 SGBV cases between January and May of 2024, it was discovered that Lagos ranked fourth on the list with 279 reported cases.\\nThe new data obtained, however, showed that in 2023 alone, Lagos had 6,389 reported cases of SGBV for adults and children.\\nOn assault reported for adults, there were 99 rape cases, 114 sexual harassment, 110 threats to life, 2,649 domestic violence, 3 attempts to rape, 9 sexual assaults by penetration, 506 denials of resources, and 323 non-SGBV.\\nFor assault cases reported for children in 2023, there were 263 cases of defilement, 153 physical assaults, 1,953 emotional violence, 136 neglect, 35 child molestation, 20 child labour, and 16 non-SGBV.\\nAlimosho topped the list of local governments with reported SGBV cases for adults, with 588 cases, while Ikorodu came second with 382, and Eti-Osa, third with 286 cases.\\nThe Executive Secretary of the Lagos State Domestic and Sexual Violence Agency, Titilola Vivour-Adeniyi said the state government has adopted a two-prong approach to addressing the menace of SGBV, which include prevention and providing immediate support to survivors.\\nWhile admitting that the state records more than 300 reported SGBV cases monthly, Vivour-Adeniyi said the agency is providing medical, legal, psychosocial, counselling, rescue and sometimes, empowerment to SGBV survivors.\\nShe added, \\u201cSince, September 2023, we\\u2019ve noticed that we attend to an average of 300 new clients monthly for SGBV, and domestic and sexual violence for all gender \\u2013 men, women, boys and girls.\\n\\u201cNow, the domestic and sexual violence agency is the statutory agency set up by the state government to prevent and ensure holistic response is provided to incidents of sexual and gender-based violence.\",\n          \"The United States Attorney\\u2019s Office for the Eastern District of Oklahoma announced that a Tahlequah man was sentenced to 17 years in prison for child sex abuse crimes.\\nAccording to reports, Wilson sexually abused a child he knew beginning in 1999 and continued until 2005.\\nWilson sexually abused three other children under the age of 12 and another child under the age of 16.\"\n        ],\n        \"semantic_type\": \"\",\n        \"description\": \"\"\n      }\n    }\n  ]\n}"
            }
          },
          "metadata": {},
          "execution_count": 21
        }
      ]
    },
    {
      "cell_type": "code",
      "source": [
        "# combining text data of the second dataset\n",
        "new_df2['combined_text_df'] = enrich27k_df['article'] + \" \" + enrich27k_df['title'] + \" \" + enrich27k_df['summary']"
      ],
      "metadata": {
        "id": "hU8mQdgHBLUc"
      },
      "execution_count": null,
      "outputs": []
    },
    {
      "cell_type": "code",
      "source": [
        "# Viewing the combined text data (dataset 2)\n",
        "new_df2['combined_text_df']"
      ],
      "metadata": {
        "colab": {
          "base_uri": "https://localhost:8080/",
          "height": 458
        },
        "id": "nPkHmYZuBLO9",
        "outputId": "6c251bc4-db26-4580-eb09-a34c43274706"
      },
      "execution_count": null,
      "outputs": [
        {
          "output_type": "execute_result",
          "data": {
            "text/plain": [
              "0        WESTFIELD — A man who authorities claim used S...\n",
              "1        Reading Time: < 1 minute\\n\\n\\n\\n\\n\\n\\n\\nHOPKIN...\n",
              "2        In a statement, Paris prosecutor Laure Beccuau...\n",
              "3        A woman allegedly killed her boyfriend's 9-yea...\n",
              "4        Son Heung-min's father summarily indicted on c...\n",
              "                               ...                        \n",
              "27356    The National Redress Scheme provides support t...\n",
              "27357    Dariel Baques was arrested on Friday, left, an...\n",
              "27358    Dariel Baques was arrested on Friday, left, an...\n",
              "27359    A Norwegian man who was found in possession of...\n",
              "27360    Former daycare worker charged with child explo...\n",
              "Name: combined_text_df, Length: 26838, dtype: object"
            ],
            "text/html": [
              "<div>\n",
              "<style scoped>\n",
              "    .dataframe tbody tr th:only-of-type {\n",
              "        vertical-align: middle;\n",
              "    }\n",
              "\n",
              "    .dataframe tbody tr th {\n",
              "        vertical-align: top;\n",
              "    }\n",
              "\n",
              "    .dataframe thead th {\n",
              "        text-align: right;\n",
              "    }\n",
              "</style>\n",
              "<table border=\"1\" class=\"dataframe\">\n",
              "  <thead>\n",
              "    <tr style=\"text-align: right;\">\n",
              "      <th></th>\n",
              "      <th>combined_text_df</th>\n",
              "    </tr>\n",
              "  </thead>\n",
              "  <tbody>\n",
              "    <tr>\n",
              "      <th>0</th>\n",
              "      <td>WESTFIELD — A man who authorities claim used S...</td>\n",
              "    </tr>\n",
              "    <tr>\n",
              "      <th>1</th>\n",
              "      <td>Reading Time: &lt; 1 minute\\n\\n\\n\\n\\n\\n\\n\\nHOPKIN...</td>\n",
              "    </tr>\n",
              "    <tr>\n",
              "      <th>2</th>\n",
              "      <td>In a statement, Paris prosecutor Laure Beccuau...</td>\n",
              "    </tr>\n",
              "    <tr>\n",
              "      <th>3</th>\n",
              "      <td>A woman allegedly killed her boyfriend's 9-yea...</td>\n",
              "    </tr>\n",
              "    <tr>\n",
              "      <th>4</th>\n",
              "      <td>Son Heung-min's father summarily indicted on c...</td>\n",
              "    </tr>\n",
              "    <tr>\n",
              "      <th>...</th>\n",
              "      <td>...</td>\n",
              "    </tr>\n",
              "    <tr>\n",
              "      <th>27356</th>\n",
              "      <td>The National Redress Scheme provides support t...</td>\n",
              "    </tr>\n",
              "    <tr>\n",
              "      <th>27357</th>\n",
              "      <td>Dariel Baques was arrested on Friday, left, an...</td>\n",
              "    </tr>\n",
              "    <tr>\n",
              "      <th>27358</th>\n",
              "      <td>Dariel Baques was arrested on Friday, left, an...</td>\n",
              "    </tr>\n",
              "    <tr>\n",
              "      <th>27359</th>\n",
              "      <td>A Norwegian man who was found in possession of...</td>\n",
              "    </tr>\n",
              "    <tr>\n",
              "      <th>27360</th>\n",
              "      <td>Former daycare worker charged with child explo...</td>\n",
              "    </tr>\n",
              "  </tbody>\n",
              "</table>\n",
              "<p>26838 rows × 1 columns</p>\n",
              "</div><br><label><b>dtype:</b> object</label>"
            ]
          },
          "metadata": {},
          "execution_count": 23
        }
      ]
    },
    {
      "cell_type": "code",
      "source": [
        "# enrich2k target feature of dataset 2 (coercion keys)\n",
        "enrich27k_df['coercion.keys'].head(2)"
      ],
      "metadata": {
        "colab": {
          "base_uri": "https://localhost:8080/",
          "height": 147
        },
        "id": "SnXWwwD1BLHK",
        "outputId": "c7ddb9c9-6f33-456e-c8ff-1a9a74cdae1a"
      },
      "execution_count": null,
      "outputs": [
        {
          "output_type": "execute_result",
          "data": {
            "text/plain": [
              "0    [Minor, Sexual Abuse]\n",
              "1                  [Minor]\n",
              "Name: coercion.keys, dtype: object"
            ],
            "text/html": [
              "<div>\n",
              "<style scoped>\n",
              "    .dataframe tbody tr th:only-of-type {\n",
              "        vertical-align: middle;\n",
              "    }\n",
              "\n",
              "    .dataframe tbody tr th {\n",
              "        vertical-align: top;\n",
              "    }\n",
              "\n",
              "    .dataframe thead th {\n",
              "        text-align: right;\n",
              "    }\n",
              "</style>\n",
              "<table border=\"1\" class=\"dataframe\">\n",
              "  <thead>\n",
              "    <tr style=\"text-align: right;\">\n",
              "      <th></th>\n",
              "      <th>coercion.keys</th>\n",
              "    </tr>\n",
              "  </thead>\n",
              "  <tbody>\n",
              "    <tr>\n",
              "      <th>0</th>\n",
              "      <td>[Minor, Sexual Abuse]</td>\n",
              "    </tr>\n",
              "    <tr>\n",
              "      <th>1</th>\n",
              "      <td>[Minor]</td>\n",
              "    </tr>\n",
              "  </tbody>\n",
              "</table>\n",
              "</div><br><label><b>dtype:</b> object</label>"
            ]
          },
          "metadata": {},
          "execution_count": 24
        }
      ]
    },
    {
      "cell_type": "code",
      "source": [
        "new_df = enrich_df[['article','title','summary','coercion.keys']].copy()\n",
        "new_df.head(1)"
      ],
      "metadata": {
        "colab": {
          "base_uri": "https://localhost:8080/",
          "height": 81
        },
        "id": "czM5GFDKBK93",
        "outputId": "1cdd816e-9574-459a-c39c-6b0b114d76ea"
      },
      "execution_count": null,
      "outputs": [
        {
          "output_type": "execute_result",
          "data": {
            "text/plain": [
              "                                             article  \\\n",
              "0  At the High Court in Glasgow on Thursday, Mari...   \n",
              "\n",
              "                                               title  \\\n",
              "0  Gang of five convicted of human trafficking an...   \n",
              "\n",
              "                                             summary coercion.keys  \n",
              "0  Detectives said the gang, originally from Roma...           NaN  "
            ],
            "text/html": [
              "\n",
              "  <div id=\"df-e98a658a-373a-45a5-9fe5-962dfaae4c86\" class=\"colab-df-container\">\n",
              "    <div>\n",
              "<style scoped>\n",
              "    .dataframe tbody tr th:only-of-type {\n",
              "        vertical-align: middle;\n",
              "    }\n",
              "\n",
              "    .dataframe tbody tr th {\n",
              "        vertical-align: top;\n",
              "    }\n",
              "\n",
              "    .dataframe thead th {\n",
              "        text-align: right;\n",
              "    }\n",
              "</style>\n",
              "<table border=\"1\" class=\"dataframe\">\n",
              "  <thead>\n",
              "    <tr style=\"text-align: right;\">\n",
              "      <th></th>\n",
              "      <th>article</th>\n",
              "      <th>title</th>\n",
              "      <th>summary</th>\n",
              "      <th>coercion.keys</th>\n",
              "    </tr>\n",
              "  </thead>\n",
              "  <tbody>\n",
              "    <tr>\n",
              "      <th>0</th>\n",
              "      <td>At the High Court in Glasgow on Thursday, Mari...</td>\n",
              "      <td>Gang of five convicted of human trafficking an...</td>\n",
              "      <td>Detectives said the gang, originally from Roma...</td>\n",
              "      <td>NaN</td>\n",
              "    </tr>\n",
              "  </tbody>\n",
              "</table>\n",
              "</div>\n",
              "    <div class=\"colab-df-buttons\">\n",
              "\n",
              "  <div class=\"colab-df-container\">\n",
              "    <button class=\"colab-df-convert\" onclick=\"convertToInteractive('df-e98a658a-373a-45a5-9fe5-962dfaae4c86')\"\n",
              "            title=\"Convert this dataframe to an interactive table.\"\n",
              "            style=\"display:none;\">\n",
              "\n",
              "  <svg xmlns=\"http://www.w3.org/2000/svg\" height=\"24px\" viewBox=\"0 -960 960 960\">\n",
              "    <path d=\"M120-120v-720h720v720H120Zm60-500h600v-160H180v160Zm220 220h160v-160H400v160Zm0 220h160v-160H400v160ZM180-400h160v-160H180v160Zm440 0h160v-160H620v160ZM180-180h160v-160H180v160Zm440 0h160v-160H620v160Z\"/>\n",
              "  </svg>\n",
              "    </button>\n",
              "\n",
              "  <style>\n",
              "    .colab-df-container {\n",
              "      display:flex;\n",
              "      gap: 12px;\n",
              "    }\n",
              "\n",
              "    .colab-df-convert {\n",
              "      background-color: #E8F0FE;\n",
              "      border: none;\n",
              "      border-radius: 50%;\n",
              "      cursor: pointer;\n",
              "      display: none;\n",
              "      fill: #1967D2;\n",
              "      height: 32px;\n",
              "      padding: 0 0 0 0;\n",
              "      width: 32px;\n",
              "    }\n",
              "\n",
              "    .colab-df-convert:hover {\n",
              "      background-color: #E2EBFA;\n",
              "      box-shadow: 0px 1px 2px rgba(60, 64, 67, 0.3), 0px 1px 3px 1px rgba(60, 64, 67, 0.15);\n",
              "      fill: #174EA6;\n",
              "    }\n",
              "\n",
              "    .colab-df-buttons div {\n",
              "      margin-bottom: 4px;\n",
              "    }\n",
              "\n",
              "    [theme=dark] .colab-df-convert {\n",
              "      background-color: #3B4455;\n",
              "      fill: #D2E3FC;\n",
              "    }\n",
              "\n",
              "    [theme=dark] .colab-df-convert:hover {\n",
              "      background-color: #434B5C;\n",
              "      box-shadow: 0px 1px 3px 1px rgba(0, 0, 0, 0.15);\n",
              "      filter: drop-shadow(0px 1px 2px rgba(0, 0, 0, 0.3));\n",
              "      fill: #FFFFFF;\n",
              "    }\n",
              "  </style>\n",
              "\n",
              "    <script>\n",
              "      const buttonEl =\n",
              "        document.querySelector('#df-e98a658a-373a-45a5-9fe5-962dfaae4c86 button.colab-df-convert');\n",
              "      buttonEl.style.display =\n",
              "        google.colab.kernel.accessAllowed ? 'block' : 'none';\n",
              "\n",
              "      async function convertToInteractive(key) {\n",
              "        const element = document.querySelector('#df-e98a658a-373a-45a5-9fe5-962dfaae4c86');\n",
              "        const dataTable =\n",
              "          await google.colab.kernel.invokeFunction('convertToInteractive',\n",
              "                                                    [key], {});\n",
              "        if (!dataTable) return;\n",
              "\n",
              "        const docLinkHtml = 'Like what you see? Visit the ' +\n",
              "          '<a target=\"_blank\" href=https://colab.research.google.com/notebooks/data_table.ipynb>data table notebook</a>'\n",
              "          + ' to learn more about interactive tables.';\n",
              "        element.innerHTML = '';\n",
              "        dataTable['output_type'] = 'display_data';\n",
              "        await google.colab.output.renderOutput(dataTable, element);\n",
              "        const docLink = document.createElement('div');\n",
              "        docLink.innerHTML = docLinkHtml;\n",
              "        element.appendChild(docLink);\n",
              "      }\n",
              "    </script>\n",
              "  </div>\n",
              "\n",
              "\n",
              "    </div>\n",
              "  </div>\n"
            ],
            "application/vnd.google.colaboratory.intrinsic+json": {
              "type": "dataframe",
              "variable_name": "new_df",
              "summary": "{\n  \"name\": \"new_df\",\n  \"rows\": 2984,\n  \"fields\": [\n    {\n      \"column\": \"article\",\n      \"properties\": {\n        \"dtype\": \"string\",\n        \"num_unique_values\": 2754,\n        \"samples\": [\n          \"Editor\\u2019s note: This article contains descriptions of child abuse. If you suspect a child is being abused or neglected, call the Childhelp Hotline at (800) 422-4453.\\n\\nA Florida children's author and her husband pleaded guilty to abusing and neglecting their three children, leaving one girl hospitalized in critical condition with multiple organ failure.\\n\\nShe was 8 years old, according to local news reports. She weighed just 40 pounds, arrest records show. The children were beaten with a device called a \\\"whacker,\\\" locked up, and not allowed to speak to each other.\\n\\nJennifer Wolfthal, 45, who wrote a children's book called \\\"A Real Friend,\\\" and her husband, 43-year-old Joseph Wolfthal, an engineer at Lockheed Martin, pleaded guilty to three counts of child abuse and three counts of child neglect each earlier this week, according to court records reviewed by USA TODAY.\\n\\nADVERTISEMENT\\n\\nOne of the children \\\"described an existence in which she did not see or talk to anyone other than her parents including her siblings and spent virtually all of her time locked alone in her bedroom,\\\" according to a search warrant written by Seminole County Sheriff's Deputy Sean R. Platter. Two of the children also said they were often sent to bed, punished with a bottle of cold water poured over them, and left in that condition overnight.\\n\\nThe children were forced to write sentences as part of their punishments, they told investigators. A search of the house turned up over 1,100 paragraphs repeating: \\\"my body stays flat on the bed at all times. I was never given permission to move or say anything. Now I get to write about this along with everything else. I'm a fool.\\\"\\n\\nJennifer Wolfthal\\n\\nThe parents were arrested in 2021 after the 8-year-old was hospitalized. In addition to multiple organ failure, she had sepsis, a staph infection, black eyes, open wounds and scabs, pneumonia and malnutrition, records show.\\n\\nThe other children were also taken to the hospital for care for malnourishment and bruises after a welfare check at their Casselberry home in central Florida. The children were adopted, according to the couple's arrest reports.\\n\\nADVERTISEMENT\\n\\nMore: Nurse charged with abuse after multiple newborns suffer fractures in intensive care unit\\n\\nJoseph Wolfthal\\n\\nPlatter wrote in reports that the children were afraid to leave their rooms at night to use the bathroom and would have accidents. One child said she hadn't been bathed in months and was only fed a mixture of cereal and vegetable puree, sometimes not having a first meal until late afternoon.\\n\\nThe couple used the object one child called a \\\"whacker\\\" to hit them, Platter wrote in an arrest record. The children said they were hit to the point of drawing blood and would be hit in the same spots that were already wounded.\\n\\nJennifer Wolfthal's book was published in 2020. The story is about best friends Max and Benny who get into an argument, according to a description on Goodreads. Benny tries to build a new friend after getting annoyed. \\\"A recognizable picture book about playing together, quarreling and patching up a quarrel,\\\" the description says. \\\"For playful children ages 4 years and up.\\\"\\n\\nADVERTISEMENT\\n\\nClavis Publishing wrote in the book's description on Google Books and other sites after the arrest that it would stop further commercialization of the book.\\n\\n\\\"We were made aware of horrific news regarding one-time, Clavis' author Jennifer Wolfthal's arrest and strongly condemn child abuse, abandonment and neglect, today and always,\\\" the company said.\\n\\nAccording to her author description, Jennifer Wolfthal grew up in South Florida, has a degree in elementary education and worked as a fourth-grade teacher for eight years at a public school. \\\"She enjoyed instilling a love for writing in her students,\\\" and went on to homeschool her own children, the description says.\\n\\nJennifer Wolfthal was sentenced to 12 years in prison, and Joseph Wolfthal was sentenced to 10 years, according to court records. Their attorneys did not immediately respond to a request for comment Saturday.\\n\\nThis article originally appeared on USA TODAY: Children's book author, husband plead guilty to child abuse, neglect\",\n          \"Content Notice: This article contains graphic details from a trial related to the sexual abuse of a young child. Some readers may find the content disturbing. Reader discretion is appreciated.\\n\\nA trans-identified male in Australia has been sentenced to just over 4 years in prison for the horrific sexual abuse of his own 5-year-old daughter. While the offender was given the pseudonym of \\u201cHilary Maloney\\u201d by the court, Reduxx can exclusively reveal the pedophile as Autumn Tulip Harper.\\n\\nReduxx has chosen to withhold Harper\\u2019s male birth name in order to protect the identity of the victim.\\n\\nHarper, 25, was first identified as a suspect in the production of vile child sexual abuse content after an American pedophile he had been communicating with was arrested in September of 2023. A forensic examination of the pedophile\\u2019s devices found that Harper had sent him pornographic images and videos of a young girl via Discord. After identifying Harper as the owner of the account the content had originated from, police in the United States notified Australian authorities of their findings.\\n\\nOn September 15, 2023, police raided Harper\\u2019s home in Clayton South, Victoria, and seized his electronic devices. An examination of his cellphone found he had produced 77 files categorized as child abuse material between May and June of 2023. The female child in the materials was identified as Harper\\u2019s own 5-year-old daughter.\\n\\n\\u201cAutumn Harper\\u201d in 2019.\\n\\nAccording to court records, Harper had been in an online BDSM relationship with the American pedophile, who encouraged him to sexually abuse his daughter in exchange for words of validation.\\n\\nHarper sent the other man a range of images of his daughter, including of her naked, in the shower, and of him sexually posing with her. The court also details there were several videos of Harper kissing the child\\u2019s labia, naked buttocks, and licking her anal region. In one of these videos, Harper is heard asking the girl if she \\u201clikes it\\u201d to which the child clearly responds \\u201cno.\\u201d\\n\\nFrom an analysis of the video and photo evidence, police determined that Harper had directly sexually abused the girl on at least 19 separate occasions in the course of just one month. The sexual abuse media was exclusively sent to the American, who Harper viewed as his \\u201cMaster.\\u201d The man would then heap praise upon Harper, telling him how \\u201cimpressed\\u201d and aroused he was by him, and calling him a \\u201cgood girl.\\u201d\\n\\nDespite being arrested for the serious crime in September of 2023, Harper was released on bail and was allowed to remain free throughout the duration of the trial.\\n\\nHarper had shared custody of his daughter with his ex-partner, who only learned of the abuse after police notified her. In a victim impact statement, she spoke of the profound emotional toll the abuse had taken on her daughter, and stated that the child had begun inexplicably \\u201cacting out\\u201d around the same time the abuse would have started.\\n\\n\\u201cLooking back, the behavioral issues all started from around the time that you were doing these things to her,\\u201d the girl\\u2019s mother said in court. \\u201cI\\u2019ve been through a lot in my life but this is the worst thing that\\u2019s ever happened to me. To have a child with someone and have your trust in them, even after breaking up and co-parenting, and then find out they\\u2019ve done these things \\u2026 I am just constantly in fear, thinking if her own father could do this to her, what stops a stranger from doing the same? This has completely ruined my trust in others.\\u201d\\n\\nDuring the trial, forensic psychiatrist Dr. Rajan Darjee was called upon to interview Harper and create a profile of his offending. Disturbingly, Darjee framed Harper as though he were a \\u201cfemale\\u201d who had been \\u201cpressured\\u201d by a male into committing the offenses.\\n\\n\\u201c\\u2026 This pattern of sexual abuse is one which a more dominant male pressurises, manipulates and/or coerces a female who has access to a child, usually her own, to sexually abuse that child and/or to make that child available to him to sexually abuse,\\u201d Darjee wrote in his report to the court, characterizing Harper as though he were a \\u201cmother\\u201d experiencing dire circumstances.\\n\\n\\u201cAutumn Harper\\u201d in 2019.\\n\\nReferring to Harper using feminine pronouns, Darjee wrote: \\u201cShe felt the man she connected with cared for and was nice to her, and due to her low self-esteem, lack of assertiveness, loneliness, submissiveness and desperation to be noticed and cared for, it was easy for him to pick up on her vulnerability and manipulate her into the master/slave relationship where he took control of her life. He then involved her in sexual exchanges and then coerced her to sexually abuse her daughter and take videos and photos to share with him. She was not inherently motivated by deviant sexual interests or any other motive, except doing what he told her and keeping him happy, to sexually abuse her daughter.\\u201d\\n\\nDarjee told the court that Harper would not need any \\u201cspecific interventions to prevent further sexual offending\\u201d and dismissed the need for sex offender treatment. He also denied that Harper had a paraphilic disorder, and argued that Harper had no sexual attraction to children.\\n\\nDarjee further described Harper as \\u201chormonally female\\u201d at the time of his offending.\\n\\nFrom the sentencing ruling against Autumn Harper.\\n\\nHarper was represented by Isabelle Skaburskis, who identified herself as \\u201cMx. Skaburskis\\u201d to the court. Notably, the defense claimed that Harper had \\u201cidentified as female\\u201d since 2019, but photos of Harper from that year show he had a notably masculine appearance at that time.\\n\\nReduxx has also been made aware through a source close to the case that Harper had initially been charged under his birth name, suggesting that he only changed his legal identification during the course of the proceedings. Due to his criminal circumstances, he likely would have had to apply for explicit permission to pursue the change from the Secretary of the Justice Department.\\n\\nDelivering the sentence on August 26, 2024, Judge Nola Karapanagiotidis highlighted Harper\\u2019s \\u201cgender dysphoria\\u201d and experiences with \\u201ctransphobia\\u201d as mitigating factors, and appeared to accept the defense\\u2019s argument that he only committed the abuse to be \\u201cvalidated \\u2026 as a woman and a sexual person.\\u201d\\n\\nFrom the sentencing ruling against Autumn Harper.\\n\\nJudge Karapanagiotidis reviewed Harper\\u2019s \\u201cpersonal circumstances\\u201d prior to announcing the sentence, emphasizing that Harper\\u2019s mother had been \\u201chomophobic and hateful\\u201d during his upbringing, and disapproved of his early attempts to wear women\\u2019s clothing. She also noted that his ex-partner, the mother of the victim, had not fully validated his gender identity after he expressed it.\\n\\n\\u201cCompounding matters, you had only started to transition in around 2021 and your gender identity was not fully accepted by those around you, including [ex-partner]. Your Counsel submits that at the relevant time you were \\u2018completely lacking connection in [your] life\\u2019 and were experiencing \\u2018pervasive feelings of rejection and lack of self-worth,'\\u201d the Judge stated.\\n\\nHarper was ultimately sentenced to 4 years and 9 months imprisonment, a steep drop from the maximum 25 year sentence that was available. Prior to delivering the decision, Judge Karapanagiotidis noted that the sentence was lenient, noting: \\u201cthe sentence that I am about to impose on this charge is lower than the standard sentence.\\u201d\\n\\nHe will be eligible for parole just 2 years and 6 months into his sentence.\\n\\nReduxx is your source of pro-woman, pro-child safeguarding news and commentary. We\\u2019re 100% independent! Support our mission by making a donation.\",\n          \"Cleveland Police rated inadequate over response to missing children and online child sexual exploitation\\n\\nCleveland Police needs to urgently improve its response to children who are missing, and how it investigates online child sexual exploitation - according to a new report from the police watchdog\\n\\nAuthor: Ellie Kumar Published 15th Jan 2025\\n\\n\\n\\nCleveland Police needs to urgently improve its response to children who are missing, and how it investigates online child sexual exploitation - according to a new report from the police watchdog.\\n\\nHMIC graded the force on how it safeguards children at risk - finding them inadequate in 2 areas - for both \\\"responding to children at risk of harm\\\" and \\\"investigating child abuse, neglect and exploitation\\\".\\n\\nHMICFRS said that the force invests in partnerships, working well with local and national partner organisations on safeguarding arrangements for children. Inspectors said that there are third-sector workers working in different teams across the force, directly supporting child and adult victims of abuse.\\n\\nHowever, inspectors identified two causes of concern regarding the force\\u2019s performance. Firstly, the inspectorate said that the force doesn\\u2019t consistently recognise the risks posed to missing children and does not respond to them effectively.\\n\\nIt also needs to improve how it investigates cases involving children being sexually exploited online. This includes how it assesses wider risks posed by offenders, and how it provides support to children and families.\\n\\nHis Majesty\\u2019s Inspector of Constabulary Michelle Skeer said:\\n\\n\\u201cCleveland Police has worked hard over the years to improve how it safeguards vulnerable children and families. I commend officers and staff for their dedication and steadfastness in a demanding environment, but the force needs to do more to achieve consistently good outcomes.\\n\\n\\u201cThe force doesn\\u2019t have enough trained officers and staff to investigate reports of child abuse, neglect and exploitation. Also, although the force has worked hard to train its officers and staff, this training doesn\\u2019t always result in improving outcomes for children.\\n\\n\\u201cChief officers and senior leaders understand their statutory responsibilities to safeguard children and invest in partnership working. But it must effectively share relevant information with its safeguarding partners and improve how it assesses and responds to children at risk of, or harmed by, online exploitation.\\n\\n\\u201cI will closely monitor progress within Cleveland Police over the coming months.\\u201d\\n\\nThe report was published on Wednesday as the national debate continued over the grooming gangs which have raped, trafficked and abused hundreds of teenage girls in dozens of towns across England - including Middlesbrough, in the Cleveland force area.\\n\\nCentral to the national outcry over this form of CSE has been the historical failure of police, social workers and other agencies to respond to children who have gone missing, especially those in local authority care.\\n\\nMs Skeer said in her report: \\\"The force doesn't consistently recognise the risks posed to missing children. Nor does it respond to them effectively.\\\"\\n\\nShe said: \\\"And the force needs to improve how it investigates cases involving children being sexually exploited online. This includes how it assesses wider risks posed by offenders, and how it provides support to children and families.\\\"\\n\\nThe HMI said that officers and staff \\\"are committed to safeguarding children, while operating in an increasingly complex and demanding environment\\\", but said: \\\"Despite the efforts of senior leadership, the force isn't yet achieving consistently good outcomes for children.\\n\\n\\\"This affects the provision of safeguarding and potentially leaves children at risk.\\\"\\n\\nIn Wednesday's report, the inspectorate set-out a case study of how the Cleveland force responded to a report of a 15-year-old girl who went missing from a care home for the first time.\\n\\nThe incident was graded as \\\"medium risk\\\" but it took officers more than five hours to respond to the report, \\\"during which time there was little police activity or investigation to find her\\\".\\n\\nAfter she returned to the home, the girl told officers over the phone that she had been at a boyfriend's house and the inspectors concluded that: \\\"The force didn't show much professional curiosity. It didn't inquire whether the girl was at risk while she was at the boyfriend's house.\\\"\\n\\nThe inspectorate said it found examples of \\\"victim blaming language\\\" in supervisor reviews of three of 12 cases involving child sexual exploitation and missing children it examined.\\n\\nAnd the inspectors were also concerned by a small number of instances where supervisors recorded inappropriate comments about missing children, like \\\"child does not understand her behaviour\\\" and \\\"engages in behaviour that is highly risky\\\".\\n\\nThe report said: \\\"This contributed to our view that, too often, the force doesn't consider and respond to risk effectively.\\\"\\n\\nIt said: \\\"The force doesn't always understand the links between missing children and child exploitation.\\\"\\n\\nThe report found that Cleveland Police does not have enough trained officers and staff to investigate reports of child abuse, neglect and exploitation and, although it has worked hard on training, this \\\"doesn't always result in improving outcomes for children\\\".\\n\\nThe inspection, which took place in June 2024, is part of a wider national initiative by His Majesty's Inspectorate of Constabulary and Fire and Rescue Services (HMICFRS) to understand how well forces safeguard children at risk.\\n\\nCleveland Police tell us they have already has worked through, considered and responded to all the findings;\\n\\nCleveland Police\\u2019s Assistant Chief Constable Richard Baker said: \\u201cThis report reflects the challenges faced across Teesside due to the high levels of social deprivation. His Majesty\\u2019s Inspector of Constabulary also refers to the force\\u2019s staff and officers\\u2019 dedication and steadfastness in a demanding environment.\\n\\n\\u201cThe force has worked through each section of the report\\u2019s findings and is pleased to confirm that many aspects have already seen considerable improvement; much of which can be evidenced by significant performance improvements and outcomes for children.\\n\\n\\u201cFollowing initial oral feedback from HMICFRS during the inspection in June 2024 an improvement plan was introduced to address some of their concerns.\\n\\n\\u201cThe implementation of a broader improvement plan following more detailed written feedback from HMICFRS has resulted in sustained progress including the accurate risk assessment of missing children with enhanced internal scrutiny of our approach.\\n\\n\\u201cAdditional, bespoke training has been delivered to key members of the workforce to enhance the identification of vulnerability and cumulative risk, with a particular focus on children. We took immediate action to ensure the ownership of all existing online child sexual exploitation investigations has been allocated to the appropriate department with a process in place to capture any investigations incorrectly allocated.\\n\\n\\u201cThe force submitted its National Child Protection Inspection action plan in December 2024 \\u2013 three months ahead of the statutory requirement \\u2013 which documented how all areas identified for improvement are being addressed, including updates and outcomes.\\n\\n\\u201cWhat remains of the utmost importance is that victims, survivors and vulnerable people receive a first-class response every time. I am committed to ensuring the force strives to ensure a high standard of service is provided and the improvements that have already been put in place are sustained and continue to be monitored. The feedback from HMICFRS around areas for improvement is a key part of our continuing progress in our service to victims, survivors and vulnerable people.\\n\\n\\u201cThe changes implemented and challenges faced have been supported by stakeholders and I would like to thank and acknowledge the strength of the ongoing relationships with our key partner agencies.\\n\\n\\\"The protection of children across Teesside will continue to be a key priority for Cleveland Police, and I am determined that, together with our partners, we will keep working hard so those who are most vulnerable receive the service they deserve.\\u201d\\n\\nIn response to the recent HMICFRS Child Protection Inspection of Cleveland Police, Police and Crime Commissioner Matt Storey said:\\n\\n\\u201cBoth police and partners have a crucial role to play in protecting and safeguarding the most vulnerable people in our communities, especially children, to prevent them being exposed to exploitation and harm.\\n\\n\\u201cThe findings from the inspection undertaken in June 2024, show that despite the efforts of officers and staff, Cleveland Police has not always done this adequately. It is concerning that children have potentially been at risk as a result.\\n\\n\\u201cI have received fortnightly briefings from senior police officers and I can confirm that there has been no delay by Cleveland Police in addressing the concerns raised by HMICFRS.\\n\\n\\u201cI recognise that the force has responded promptly and comprehensively to the inspection findings and has already put plans in place to address areas for improvement.\\n\\n\\u201cI will continue to closely monitor progress to ensure children in Cleveland are effectively safeguarded and protected from harm.\\u201d\\n\\nHear all the latest news from across the UK on the hour, every hour, on Greatest Hits Radio on DAB, smartspeaker, at greatesthitsradio.co.uk, and on the Rayo app.\"\n        ],\n        \"semantic_type\": \"\",\n        \"description\": \"\"\n      }\n    },\n    {\n      \"column\": \"title\",\n      \"properties\": {\n        \"dtype\": \"string\",\n        \"num_unique_values\": 2447,\n        \"samples\": [\n          \"Two in Johor plead guilty to having thousand of child porn photos, videos\",\n          \"Commercial Sexual Exploitation Multi-Agency Group minutes: September 2024\",\n          \"Three new bills related to child sex crimes filed in Missouri \\u2013 Baptist News Global\"\n        ],\n        \"semantic_type\": \"\",\n        \"description\": \"\"\n      }\n    },\n    {\n      \"column\": \"summary\",\n      \"properties\": {\n        \"dtype\": \"string\",\n        \"num_unique_values\": 2640,\n        \"samples\": [\n          \"A prominent California-based comic strip creator, cartoonist and author has been arrested on suspicion of possession and creating child pornography.\\nThe incident is added to a growing list of arrests of establishment news employees and syndicated content creators for child abuse in the past couple of years.\\nDarrin Bell is best known for his Candorville comic strips and other work published by the Washington Post injecting far-left ideology, race grifting, pro-illegal immigration views and LGBT issues into his content.\\nBell often attacked conservatives who dared to criticize the political left's habit of child grooming; from ideological grooming to sexualized grooming.\\nEstablishment media outlets have been hit with a steady string of employee arrests in the past couple years involving child abuse and pornography and the trend doesn't seem to be slowing down any time soon.\\nThis topic hit the mainstream aggressively in 2023 with the release of the movie 'Sound Of Freedom', based on the true story of an independent investigation which led to the exposure of an international child sex trafficking ring.\",\n          \"Lev Tahor Members Spray Guatemalan Police With Acid, 4 Injured\\nNEW YORK (VINnews) \\u2014 Rescue forces and medical personnel in Guatemala City reported that they treated several police officers who were sprayed with acid at a welfare facility where members of the Lev Tahor cult are staying.\\nIn the meantime, Consuelo Porras, the Attorney General of Guatemala, met with the Israel\\u2019s ambassador regarding the Lev Tahor cult case.\\nContent retrieved from: https://vinnews.com/2025/01/09/lev-tahor-members-spray-guatemalan-police-with-acid-4-injured/.\",\n          \"One of the leaders of the extremist Hasidic Lev Tahor sect Eliazar Rompler was arrested in Guatemala.\\nRompler, was indicted for alleged crimes committed against 9 and 10-year-old children in Canada between 2009 and 2011, when he served as the principal of a school in Canada belonging to the sect.\\nMembers of Lev Tahor sect riot in Guatemala after a police raid\\n3 View gallery Elazar Rompler (r) with another sect member arrested in Guatemala\\n3 View gallery Female members of the Lev Tahor sect in Guatemala ( Photo: Reuters )\\nIn 2013 the sect relocated to the province on Ontario where social service officials said they had evidence of child abuse and underage marriages.\\nAfter the authorities attempted to move some children into foster care, Helbrans decided to relocate the sect to Guatemala\\nLev Tahor succeeded in moving some children to Guatemala and most members of the sect settled in the town of San Juan Laguna.\"\n        ],\n        \"semantic_type\": \"\",\n        \"description\": \"\"\n      }\n    },\n    {\n      \"column\": \"coercion.keys\",\n      \"properties\": {\n        \"dtype\": \"object\",\n        \"semantic_type\": \"\",\n        \"description\": \"\"\n      }\n    }\n  ]\n}"
            }
          },
          "metadata": {},
          "execution_count": 25
        }
      ]
    },
    {
      "cell_type": "code",
      "source": [
        "# Combining the text data to create a dataframe (dataset 1)\n",
        "new_df['combined_text_df1'] = enrich_df['article'] + \" \" + enrich_df['title'] + \" \" + enrich_df['summary']\n",
        "new_df['combined_text_df1']"
      ],
      "metadata": {
        "colab": {
          "base_uri": "https://localhost:8080/",
          "height": 458
        },
        "id": "gD2qrMdzBdci",
        "outputId": "05241100-84fd-418d-c95d-29a8699c6856"
      },
      "execution_count": null,
      "outputs": [
        {
          "output_type": "execute_result",
          "data": {
            "text/plain": [
              "0       At the High Court in Glasgow on Thursday, Mari...\n",
              "1       LINCOLN — State and federal law enforcement of...\n",
              "2       At the High Court in Glasgow on Thursday, Mari...\n",
              "3       At the High Court in Glasgow on Thursday, Mari...\n",
              "4       If you didn't know, January is National Human ...\n",
              "                              ...                        \n",
              "2979    State Police investigators out of Lyons report...\n",
              "2980    Attorney General Alan Wilson | Attorney Genera...\n",
              "2981    Attorney General Alan Wilson | Attorney Genera...\n",
              "2982    MICHIGAN CITY, Ind. (WNDU) - A 29-year-old Mic...\n",
              "2983    Published at 2:01 pm, January 18, 2025 | Updat...\n",
              "Name: combined_text_df1, Length: 2984, dtype: object"
            ],
            "text/html": [
              "<div>\n",
              "<style scoped>\n",
              "    .dataframe tbody tr th:only-of-type {\n",
              "        vertical-align: middle;\n",
              "    }\n",
              "\n",
              "    .dataframe tbody tr th {\n",
              "        vertical-align: top;\n",
              "    }\n",
              "\n",
              "    .dataframe thead th {\n",
              "        text-align: right;\n",
              "    }\n",
              "</style>\n",
              "<table border=\"1\" class=\"dataframe\">\n",
              "  <thead>\n",
              "    <tr style=\"text-align: right;\">\n",
              "      <th></th>\n",
              "      <th>combined_text_df1</th>\n",
              "    </tr>\n",
              "  </thead>\n",
              "  <tbody>\n",
              "    <tr>\n",
              "      <th>0</th>\n",
              "      <td>At the High Court in Glasgow on Thursday, Mari...</td>\n",
              "    </tr>\n",
              "    <tr>\n",
              "      <th>1</th>\n",
              "      <td>LINCOLN — State and federal law enforcement of...</td>\n",
              "    </tr>\n",
              "    <tr>\n",
              "      <th>2</th>\n",
              "      <td>At the High Court in Glasgow on Thursday, Mari...</td>\n",
              "    </tr>\n",
              "    <tr>\n",
              "      <th>3</th>\n",
              "      <td>At the High Court in Glasgow on Thursday, Mari...</td>\n",
              "    </tr>\n",
              "    <tr>\n",
              "      <th>4</th>\n",
              "      <td>If you didn't know, January is National Human ...</td>\n",
              "    </tr>\n",
              "    <tr>\n",
              "      <th>...</th>\n",
              "      <td>...</td>\n",
              "    </tr>\n",
              "    <tr>\n",
              "      <th>2979</th>\n",
              "      <td>State Police investigators out of Lyons report...</td>\n",
              "    </tr>\n",
              "    <tr>\n",
              "      <th>2980</th>\n",
              "      <td>Attorney General Alan Wilson | Attorney Genera...</td>\n",
              "    </tr>\n",
              "    <tr>\n",
              "      <th>2981</th>\n",
              "      <td>Attorney General Alan Wilson | Attorney Genera...</td>\n",
              "    </tr>\n",
              "    <tr>\n",
              "      <th>2982</th>\n",
              "      <td>MICHIGAN CITY, Ind. (WNDU) - A 29-year-old Mic...</td>\n",
              "    </tr>\n",
              "    <tr>\n",
              "      <th>2983</th>\n",
              "      <td>Published at 2:01 pm, January 18, 2025 | Updat...</td>\n",
              "    </tr>\n",
              "  </tbody>\n",
              "</table>\n",
              "<p>2984 rows × 1 columns</p>\n",
              "</div><br><label><b>dtype:</b> object</label>"
            ]
          },
          "metadata": {},
          "execution_count": 26
        }
      ]
    },
    {
      "cell_type": "code",
      "source": [
        "# Cleaning dataset 1\n",
        "new_df['combined_text_df1'].isnull().sum()"
      ],
      "metadata": {
        "colab": {
          "base_uri": "https://localhost:8080/"
        },
        "id": "_ZxsBhmDBdZR",
        "outputId": "926b2147-dd9f-45a6-f844-fd268867ae42"
      },
      "execution_count": null,
      "outputs": [
        {
          "output_type": "execute_result",
          "data": {
            "text/plain": [
              "np.int64(0)"
            ]
          },
          "metadata": {},
          "execution_count": 27
        }
      ]
    },
    {
      "cell_type": "code",
      "source": [
        "# Checking the target feature for null values\n",
        "new_df['coercion.keys'].isnull().sum()"
      ],
      "metadata": {
        "colab": {
          "base_uri": "https://localhost:8080/"
        },
        "id": "wMhcTk62BdWA",
        "outputId": "fb1f4465-8921-438d-e782-441d8e6144ad"
      },
      "execution_count": null,
      "outputs": [
        {
          "output_type": "execute_result",
          "data": {
            "text/plain": [
              "np.int64(62)"
            ]
          },
          "metadata": {},
          "execution_count": 28
        }
      ]
    },
    {
      "cell_type": "code",
      "source": [
        "# Drop rows with NaN in 'coercion.keys' in place\n",
        "new_df.dropna(subset=['coercion.keys'], inplace=True)\n",
        "\n",
        "# Checking the target feature for null values\n",
        "new_df['coercion.keys'].isnull().sum()"
      ],
      "metadata": {
        "colab": {
          "base_uri": "https://localhost:8080/"
        },
        "id": "FHLP8wSKBdQI",
        "outputId": "373f5922-f79e-40e7-c1d2-2faef00e8476"
      },
      "execution_count": null,
      "outputs": [
        {
          "output_type": "execute_result",
          "data": {
            "text/plain": [
              "np.int64(0)"
            ]
          },
          "metadata": {},
          "execution_count": 29
        }
      ]
    },
    {
      "cell_type": "code",
      "source": [
        "# Cocatenate both Text DF (dataset 1 and 2 text features)\n",
        "combined_text_df = pd.concat([\n",
        "    new_df[['combined_text_df1']].rename(columns={'combined_text_df1': 'combined_text'}),\n",
        "    new_df2[['combined_text_df']].rename(columns={'combined_text_df': 'combined_text'})\n",
        "], axis=0, ignore_index=True)\n"
      ],
      "metadata": {
        "id": "4MHLQ-MJBdM5"
      },
      "execution_count": null,
      "outputs": []
    },
    {
      "cell_type": "code",
      "source": [
        "# Concatenate both target feature columns into a single Series\n",
        "combined_coercion_keys = pd.concat([new_df['coercion.keys'], enrich27k_df['coercion.keys']], ignore_index=True)\n",
        "\n",
        "# Display the shape of the combined target feature\n",
        "print(combined_coercion_keys.shape)\n"
      ],
      "metadata": {
        "colab": {
          "base_uri": "https://localhost:8080/"
        },
        "id": "o3gDBIcPB62_",
        "outputId": "7d7d62b6-40ac-44bf-883d-1f3ccdfe8f30"
      },
      "execution_count": null,
      "outputs": [
        {
          "output_type": "stream",
          "name": "stdout",
          "text": [
            "(29760,)\n"
          ]
        }
      ]
    },
    {
      "cell_type": "code",
      "source": [
        "print(len(combined_coercion_keys))  # Should be 29760\n",
        "print(len(combined_text_df))  # Should be 29760"
      ],
      "metadata": {
        "colab": {
          "base_uri": "https://localhost:8080/"
        },
        "id": "N0e54j4OBdJv",
        "outputId": "e25be2ce-bbcb-4d84-eff8-23ec8875851e"
      },
      "execution_count": null,
      "outputs": [
        {
          "output_type": "stream",
          "name": "stdout",
          "text": [
            "29760\n",
            "29760\n"
          ]
        }
      ]
    },
    {
      "cell_type": "code",
      "source": [
        "X = combined_text_df['combined_text'].values  # This gives us the text as a 1D numpy array\n",
        "print(\"X shape before reshaping:\", X.shape)  # It should be (29760,)"
      ],
      "metadata": {
        "colab": {
          "base_uri": "https://localhost:8080/"
        },
        "id": "od2-KgD3BdFL",
        "outputId": "6f2c7167-bc57-4903-8458-abcf98e3b82f"
      },
      "execution_count": null,
      "outputs": [
        {
          "output_type": "stream",
          "name": "stdout",
          "text": [
            "X shape before reshaping: (29760,)\n"
          ]
        }
      ]
    },
    {
      "cell_type": "code",
      "source": [
        "# Reshape it to be 2D (29760, 1)\n",
        "X = X.reshape(-1, 1)  #  X has shape (29760, 1)\n",
        "print(\"X shape after reshaping:\", X.shape)"
      ],
      "metadata": {
        "colab": {
          "base_uri": "https://localhost:8080/"
        },
        "id": "_u0Q8gmtBc8_",
        "outputId": "eaea05c1-9e5d-4fa5-ecf7-024206e4adac"
      },
      "execution_count": null,
      "outputs": [
        {
          "output_type": "stream",
          "name": "stdout",
          "text": [
            "X shape after reshaping: (29760, 1)\n"
          ]
        }
      ]
    },
    {
      "cell_type": "code",
      "source": [
        "# asigning the feature target to y\n",
        "y = combined_coercion_keys\n",
        "print(y)"
      ],
      "metadata": {
        "colab": {
          "base_uri": "https://localhost:8080/"
        },
        "id": "8DNc8n3FCEU-",
        "outputId": "1b77fbaf-a1db-4f43-b7dd-5118c1e734c3"
      },
      "execution_count": null,
      "outputs": [
        {
          "output_type": "stream",
          "name": "stdout",
          "text": [
            "0              [Forced, Minor]\n",
            "1                      [Minor]\n",
            "2                      [Minor]\n",
            "3                      [Minor]\n",
            "4              [Forced, Minor]\n",
            "                 ...          \n",
            "29755           [Sexual Abuse]\n",
            "29756    [Minor, Sexual Abuse]\n",
            "29757                  [Minor]\n",
            "29758    [Minor, Sexual Abuse]\n",
            "29759                  [Minor]\n",
            "Name: coercion.keys, Length: 29760, dtype: object\n"
          ]
        }
      ]
    },
    {
      "cell_type": "code",
      "source": [
        "print(y.value_counts())  # Check class distribution"
      ],
      "metadata": {
        "colab": {
          "base_uri": "https://localhost:8080/"
        },
        "id": "1DgUC5-tCEPf",
        "outputId": "06f02890-cf0f-496a-d25b-8fab3519cb46"
      },
      "execution_count": null,
      "outputs": [
        {
          "output_type": "stream",
          "name": "stdout",
          "text": [
            "coercion.keys\n",
            "[Minor]                                                                                                                 10432\n",
            "[Minor, Sexual Abuse]                                                                                                   10102\n",
            "[Minor, Restricts Access to/Manipulates Children, Sexual Abuse]                                                          1498\n",
            "[Minor, Restricts Access to/Manipulates Children]                                                                        1065\n",
            "[Forced, Minor]                                                                                                          1025\n",
            "                                                                                                                        ...  \n",
            "[Forced, Minor, Physical Abuse/Threat or Force, Sexual Abuse, Withholds/Destroys Important Documents]                       1\n",
            "[Forced, Psychological Abuse/Threat or Force, Restricts Access to/Manipulates Children, Restricts Movement/Isolates]        1\n",
            "[Forced, Minor, Physical Abuse/Threat or Force, Psychological Abuse/Threat or Force, Restricts Movement/Isolates]           1\n",
            "[Psychological Abuse/Threat or Force, Restricts Access to/Manipulates Children, Takes/Withholds Earnings/Wages]             1\n",
            "[Forced, Restricts Access to/Manipulates Children, Sexual Abuse]                                                            1\n",
            "Name: count, Length: 219, dtype: int64\n"
          ]
        }
      ]
    },
    {
      "cell_type": "code",
      "source": [
        "# Use MultiLabelBinarizer to convert the target feature, y to binary format\n",
        "mlb = MultiLabelBinarizer()\n",
        "y_bin = mlb.fit_transform(y)\n",
        "\n",
        "# Now `y_bin` is a binary matrix with each class represented as a column\n",
        "y_df = pd.DataFrame(y_bin, columns=mlb.classes_)\n"
      ],
      "metadata": {
        "id": "akg1Cr8NCTiE"
      },
      "execution_count": null,
      "outputs": []
    },
    {
      "cell_type": "code",
      "source": [
        "# Flatten the array to 1D\n",
        "X_flat = X.flatten()\n"
      ],
      "metadata": {
        "id": "ezMVlaiYCTct"
      },
      "execution_count": null,
      "outputs": []
    },
    {
      "cell_type": "code",
      "source": [
        "from transformers import BertTokenizer\n",
        "\n",
        "# Initialize BERT tokenizer\n",
        "tokenizer = BertTokenizer.from_pretrained('bert-base-uncased')\n",
        "\n",
        "# Define the tokenization function\n",
        "def tokenize_function(text):\n",
        "    return tokenizer(text, truncation=True, padding='max_length', max_length=512, return_tensors='pt')\n",
        "\n",
        "# Apply the tokenizer to the flattened X array\n",
        "X_tokenized = [tokenize_function(text) for text in X_flat]\n",
        "\n",
        "# Print out the first tokenized sample to inspect the structure\n",
        "print(X_tokenized[0])  # Inspect the first tokenized entry\n"
      ],
      "metadata": {
        "colab": {
          "base_uri": "https://localhost:8080/",
          "height": 1000,
          "referenced_widgets": [
            "855a910875dd4e62a263e25985ad90cf",
            "a19a76259a124497b3707d0cd964828f",
            "7e1a72bbd23946fa940b95cbc935895c",
            "925e9e9c60ab4c6187a812bbd497d64d",
            "0cb5f6ec850d4d9cb00631e65f6f8fe7",
            "429e7feb322d4ed68a2cecf7c6064017",
            "ff83880cdf6d4d9cb754cecaeafbb92f",
            "52eecf458891405b80b3eb4e3bc01350",
            "61152af269f74574ba0d79445ade123d",
            "4fb232c5db6c4a4fa4d1fbfdd70e093d",
            "e0e5201da33b4ddeadeaec21e832a66b",
            "ea0b9d406a604b37a8266cef5b19fe68",
            "8230876ba0ed4398bddcede886972b77",
            "fcdc500cf6954966b4954c08a8b6b3ec",
            "9bc810415d644317b7788f5c8167efef",
            "99d9892a256a4b0eb7c626518e7ee3b0",
            "1141a894d8ff42b68ca9c4d3d1d938f2",
            "aec1f3d405c64935a90f28871fa00383",
            "94350475977a4d7d95abe797a2612e1d",
            "c885a99f4c5b475dace437544c48922c",
            "2142bc73aedc42c0ad2cdc6e18602e36",
            "87e24966b1c0488d8b2659f570887833",
            "4b229d37c8f44a2ebea03aca883846c1",
            "4385eaf998634f2082d04a2c2b25e05d",
            "b6592e423f2d44218e17018d4816e44d",
            "fcbfd1a6afd84eedac29e628aabff0a7",
            "0d0bfd1e6c8a4610a8c335499ab8ea49",
            "bf25314678bb4a11990fdbd265ee9541",
            "cd19402c56f34fbe8f6cc676f5f6ee9e",
            "dc1af4ebf89f4b94abf480c4601d505a",
            "03ecc93d1f9a483da19fc5179a59b948",
            "9db727b158e84b21a856871354103bdf",
            "d2fa7e9529f44fb288cdbdf5aa232811"
          ]
        },
        "id": "0mNe5iExCTXs",
        "outputId": "13981323-3521-43d6-d84c-f1ec2ccf8bd1"
      },
      "execution_count": null,
      "outputs": [
        {
          "output_type": "display_data",
          "data": {
            "text/plain": [
              "tokenizer_config.json:   0%|          | 0.00/48.0 [00:00<?, ?B/s]"
            ],
            "application/vnd.jupyter.widget-view+json": {
              "version_major": 2,
              "version_minor": 0,
              "model_id": "855a910875dd4e62a263e25985ad90cf"
            }
          },
          "metadata": {}
        },
        {
          "output_type": "display_data",
          "data": {
            "text/plain": [
              "vocab.txt:   0%|          | 0.00/232k [00:00<?, ?B/s]"
            ],
            "application/vnd.jupyter.widget-view+json": {
              "version_major": 2,
              "version_minor": 0,
              "model_id": "ea0b9d406a604b37a8266cef5b19fe68"
            }
          },
          "metadata": {}
        },
        {
          "output_type": "display_data",
          "data": {
            "text/plain": [
              "tokenizer.json:   0%|          | 0.00/466k [00:00<?, ?B/s]"
            ],
            "application/vnd.jupyter.widget-view+json": {
              "version_major": 2,
              "version_minor": 0,
              "model_id": "4b229d37c8f44a2ebea03aca883846c1"
            }
          },
          "metadata": {}
        },
        {
          "output_type": "stream",
          "name": "stdout",
          "text": [
            "{'input_ids': tensor([[  101,  5367,  1517,  2110,  1998,  2976,  2375,  7285,  4584,  2587,\n",
            "         18079,  1012,  3958, 17357,  2368,  2012,  1037,  2811,  3034,  5958,\n",
            "          2000, 12342,  1037,  2422,  2006,  2054,  1996,  3099,  2170,  1523,\n",
            "          1996, 23036,  2825,  8254,  2635,  2173,  1999,  8506,  1012,  1524,\n",
            "          2005,  1996,  2353,  2095,  1999,  1037,  5216,  1010, 17357,  2368,\n",
            "          2006,  5958, 10116,  2254,  2004,  2529, 11626,  7073,  3204,  1999,\n",
            "          8506,  1998,  4354,  1037,  2811,  3034,  2073,  2002,  1998,  2375,\n",
            "          7285,  4584,  5015,  1996,  8598,  2006,  1996,  5193,  1998, 24873,\n",
            "         11890,  3258,  1997,  5694,  1997,  3140,  4450,  2030,  4424, 14427,\n",
            "          2008, 17357,  2368,  2056,  2003,  1523,  6230,  1999,  2035,  6109,\n",
            "          5721,  1012,  1524,  1523,  2009,  2003,  7249,  1010,  1524, 17357,\n",
            "          2368,  2056,  2012,  5958,  1521,  1055,  7215,  2012,  1996,  9424,\n",
            "          1010,  2073,  2002,  2001,  2587,  2011,  4905,  2236,  3505,  7632,\n",
            "         28875,  2869,  1010,  1996,  2132,  1997,  8506,  1521,  1055,  2110,\n",
            "          6477,  1998,  1996,  2569,  4005,  1999,  3715,  1997,  1996,  8495,\n",
            "          1521,  1055,  2492,  2436,  1999, 12864,  1012,  1523,  2009,  1521,\n",
            "          1055,  2074,  2428,  1010,  2428,  2524,  2000, 22346,  1006,  2008,\n",
            "          1007,  2057,  2031,  2023,  3291,  1999,  8506,  1010,  1524, 17357,\n",
            "          2368,  2056,  1012,  1523,  1045,  2123,  1521,  1056,  2113,  2055,\n",
            "          2017,  1010,  2021,  1999,  1996,  2197,  2095,  1010,  2043,  1045,\n",
            "          2318,  4083,  2062,  1010,  1045,  2056,  1010,  1520,  8307,  1521,\n",
            "          1055, 10657,  2022,  2437,  4933,  2039,  1012,  1521,  1524,  1996,\n",
            "          5103,  1517,  2036,  3230,  2011,  9877,  1997,  2110, 10153,  1010,\n",
            "         13010,  1998,  2375,  7285,  3738,  1517,  4417,  1996,  2110,  1521,\n",
            "          1055,  6745,  3947,  2000, 17763,  1996,  3277,  1010,  2130,  2004,\n",
            "          4735, 11537,  2015,  1997,  6884,  4026, 11451,  3961,  4678,  1999,\n",
            "          8506,  1998,  2045,  2003,  2210,  2270,  3350,  2000,  2067,  2039,\n",
            "          2569,  4005,  8207, 12849,  8545,  2140,  1521,  1055,  4366,  2008,\n",
            "          1996,  1523,  3291,  2003,  3652,  1012,  1524,  5958,  1521,  1055,\n",
            "          2811,  3034, 18616,  2007,  1037,  3189,  2207,  2011,  7632, 28875,\n",
            "          2869,  1521,  2436,  2008,  3662,  2045,  2020,  2260,  3348, 11626,\n",
            "         16362,  7979,  1997, 10768,  7811,  3111,  1999,  8506,  2197,  2095,\n",
            "          1517,  2012,  2560,  2070,  1997,  3183,  2020,  7979,  2069,  1997,\n",
            "          1523,  3141, 24648,  5571,  2000,  5676,  2008,  2216,  2040,  4026,\n",
            "          1999,  8506,  2024,  2218, 26771,  1010,  1524,  2429,  2000,  1996,\n",
            "          3189,  1012,  2045,  2031,  2042,  2090,  2698,  1998,  2403,  2107,\n",
            "         11626, 20488,  2030,  1523,  3141,  1524, 20488,  2169,  2095,  1999,\n",
            "          1996,  2110,  5306,  2067,  2000,  2760,  1012,  8506,  2375, 12088,\n",
            "          2031,  3807,  2992,  4735, 12408,  2005,  4026, 11451,  1999,  1996,\n",
            "          2627,  5476,  1998,  1999,  2355, 10047, 23041,  3550, 11626,  5694,\n",
            "          2013, 15016,  5571,  1012,  2021,  2045,  2031,  2042,  2074,  2676,\n",
            "         20488,  2005, 11626,  2030,  4692, 11626,  1999,  1996,  2110,  1521,\n",
            "          1055,  2381,  1010,  2429,  2000,  2023,  2095,  1521,  1055,  3189,\n",
            "          1012,  7632, 28875,  2869,  3264,  1996,  8506,  2529, 11626,  4708,\n",
            "          2486,  4738,  2062,  2084,  1016,  1010,  2199,  2111,  2023,  2095,\n",
            "          2000,  6807,  3891,  5876,  1998,  5432,  5751,  1997, 11626,  1010,\n",
            "          2029,  7632, 28875,  2869,  3459,  2004,  1037,  5468,  1997,  1996,\n",
            "          2110,  1521,  1055,  3112,  1999,  1996,  1523,  2954,  2008,  3138,\n",
            "          2173,  2013,  2225,  1010,  2264,  1998,  2167,  1998,  2148,  1999,\n",
            "          2256,  2110,  1012,  1524,  2012,  1996,  2811,  3034,  1010,  8902,\n",
            "          1012,  2198,  7782, 14194,  1010,  1996,  9133,  1997,  1996,  2110,\n",
            "          6477,   102]]), 'token_type_ids': tensor([[0, 0, 0, 0, 0, 0, 0, 0, 0, 0, 0, 0, 0, 0, 0, 0, 0, 0, 0, 0, 0, 0, 0, 0,\n",
            "         0, 0, 0, 0, 0, 0, 0, 0, 0, 0, 0, 0, 0, 0, 0, 0, 0, 0, 0, 0, 0, 0, 0, 0,\n",
            "         0, 0, 0, 0, 0, 0, 0, 0, 0, 0, 0, 0, 0, 0, 0, 0, 0, 0, 0, 0, 0, 0, 0, 0,\n",
            "         0, 0, 0, 0, 0, 0, 0, 0, 0, 0, 0, 0, 0, 0, 0, 0, 0, 0, 0, 0, 0, 0, 0, 0,\n",
            "         0, 0, 0, 0, 0, 0, 0, 0, 0, 0, 0, 0, 0, 0, 0, 0, 0, 0, 0, 0, 0, 0, 0, 0,\n",
            "         0, 0, 0, 0, 0, 0, 0, 0, 0, 0, 0, 0, 0, 0, 0, 0, 0, 0, 0, 0, 0, 0, 0, 0,\n",
            "         0, 0, 0, 0, 0, 0, 0, 0, 0, 0, 0, 0, 0, 0, 0, 0, 0, 0, 0, 0, 0, 0, 0, 0,\n",
            "         0, 0, 0, 0, 0, 0, 0, 0, 0, 0, 0, 0, 0, 0, 0, 0, 0, 0, 0, 0, 0, 0, 0, 0,\n",
            "         0, 0, 0, 0, 0, 0, 0, 0, 0, 0, 0, 0, 0, 0, 0, 0, 0, 0, 0, 0, 0, 0, 0, 0,\n",
            "         0, 0, 0, 0, 0, 0, 0, 0, 0, 0, 0, 0, 0, 0, 0, 0, 0, 0, 0, 0, 0, 0, 0, 0,\n",
            "         0, 0, 0, 0, 0, 0, 0, 0, 0, 0, 0, 0, 0, 0, 0, 0, 0, 0, 0, 0, 0, 0, 0, 0,\n",
            "         0, 0, 0, 0, 0, 0, 0, 0, 0, 0, 0, 0, 0, 0, 0, 0, 0, 0, 0, 0, 0, 0, 0, 0,\n",
            "         0, 0, 0, 0, 0, 0, 0, 0, 0, 0, 0, 0, 0, 0, 0, 0, 0, 0, 0, 0, 0, 0, 0, 0,\n",
            "         0, 0, 0, 0, 0, 0, 0, 0, 0, 0, 0, 0, 0, 0, 0, 0, 0, 0, 0, 0, 0, 0, 0, 0,\n",
            "         0, 0, 0, 0, 0, 0, 0, 0, 0, 0, 0, 0, 0, 0, 0, 0, 0, 0, 0, 0, 0, 0, 0, 0,\n",
            "         0, 0, 0, 0, 0, 0, 0, 0, 0, 0, 0, 0, 0, 0, 0, 0, 0, 0, 0, 0, 0, 0, 0, 0,\n",
            "         0, 0, 0, 0, 0, 0, 0, 0, 0, 0, 0, 0, 0, 0, 0, 0, 0, 0, 0, 0, 0, 0, 0, 0,\n",
            "         0, 0, 0, 0, 0, 0, 0, 0, 0, 0, 0, 0, 0, 0, 0, 0, 0, 0, 0, 0, 0, 0, 0, 0,\n",
            "         0, 0, 0, 0, 0, 0, 0, 0, 0, 0, 0, 0, 0, 0, 0, 0, 0, 0, 0, 0, 0, 0, 0, 0,\n",
            "         0, 0, 0, 0, 0, 0, 0, 0, 0, 0, 0, 0, 0, 0, 0, 0, 0, 0, 0, 0, 0, 0, 0, 0,\n",
            "         0, 0, 0, 0, 0, 0, 0, 0, 0, 0, 0, 0, 0, 0, 0, 0, 0, 0, 0, 0, 0, 0, 0, 0,\n",
            "         0, 0, 0, 0, 0, 0, 0, 0]]), 'attention_mask': tensor([[1, 1, 1, 1, 1, 1, 1, 1, 1, 1, 1, 1, 1, 1, 1, 1, 1, 1, 1, 1, 1, 1, 1, 1,\n",
            "         1, 1, 1, 1, 1, 1, 1, 1, 1, 1, 1, 1, 1, 1, 1, 1, 1, 1, 1, 1, 1, 1, 1, 1,\n",
            "         1, 1, 1, 1, 1, 1, 1, 1, 1, 1, 1, 1, 1, 1, 1, 1, 1, 1, 1, 1, 1, 1, 1, 1,\n",
            "         1, 1, 1, 1, 1, 1, 1, 1, 1, 1, 1, 1, 1, 1, 1, 1, 1, 1, 1, 1, 1, 1, 1, 1,\n",
            "         1, 1, 1, 1, 1, 1, 1, 1, 1, 1, 1, 1, 1, 1, 1, 1, 1, 1, 1, 1, 1, 1, 1, 1,\n",
            "         1, 1, 1, 1, 1, 1, 1, 1, 1, 1, 1, 1, 1, 1, 1, 1, 1, 1, 1, 1, 1, 1, 1, 1,\n",
            "         1, 1, 1, 1, 1, 1, 1, 1, 1, 1, 1, 1, 1, 1, 1, 1, 1, 1, 1, 1, 1, 1, 1, 1,\n",
            "         1, 1, 1, 1, 1, 1, 1, 1, 1, 1, 1, 1, 1, 1, 1, 1, 1, 1, 1, 1, 1, 1, 1, 1,\n",
            "         1, 1, 1, 1, 1, 1, 1, 1, 1, 1, 1, 1, 1, 1, 1, 1, 1, 1, 1, 1, 1, 1, 1, 1,\n",
            "         1, 1, 1, 1, 1, 1, 1, 1, 1, 1, 1, 1, 1, 1, 1, 1, 1, 1, 1, 1, 1, 1, 1, 1,\n",
            "         1, 1, 1, 1, 1, 1, 1, 1, 1, 1, 1, 1, 1, 1, 1, 1, 1, 1, 1, 1, 1, 1, 1, 1,\n",
            "         1, 1, 1, 1, 1, 1, 1, 1, 1, 1, 1, 1, 1, 1, 1, 1, 1, 1, 1, 1, 1, 1, 1, 1,\n",
            "         1, 1, 1, 1, 1, 1, 1, 1, 1, 1, 1, 1, 1, 1, 1, 1, 1, 1, 1, 1, 1, 1, 1, 1,\n",
            "         1, 1, 1, 1, 1, 1, 1, 1, 1, 1, 1, 1, 1, 1, 1, 1, 1, 1, 1, 1, 1, 1, 1, 1,\n",
            "         1, 1, 1, 1, 1, 1, 1, 1, 1, 1, 1, 1, 1, 1, 1, 1, 1, 1, 1, 1, 1, 1, 1, 1,\n",
            "         1, 1, 1, 1, 1, 1, 1, 1, 1, 1, 1, 1, 1, 1, 1, 1, 1, 1, 1, 1, 1, 1, 1, 1,\n",
            "         1, 1, 1, 1, 1, 1, 1, 1, 1, 1, 1, 1, 1, 1, 1, 1, 1, 1, 1, 1, 1, 1, 1, 1,\n",
            "         1, 1, 1, 1, 1, 1, 1, 1, 1, 1, 1, 1, 1, 1, 1, 1, 1, 1, 1, 1, 1, 1, 1, 1,\n",
            "         1, 1, 1, 1, 1, 1, 1, 1, 1, 1, 1, 1, 1, 1, 1, 1, 1, 1, 1, 1, 1, 1, 1, 1,\n",
            "         1, 1, 1, 1, 1, 1, 1, 1, 1, 1, 1, 1, 1, 1, 1, 1, 1, 1, 1, 1, 1, 1, 1, 1,\n",
            "         1, 1, 1, 1, 1, 1, 1, 1, 1, 1, 1, 1, 1, 1, 1, 1, 1, 1, 1, 1, 1, 1, 1, 1,\n",
            "         1, 1, 1, 1, 1, 1, 1, 1]])}\n"
          ]
        }
      ]
    },
    {
      "cell_type": "code",
      "source": [
        "from sklearn.model_selection import train_test_split\n",
        "\n",
        "# Split tokenized text and labels (80% train, 20% test)\n",
        "X_train, X_temp, y_train, y_temp = train_test_split(X_tokenized, y_df, test_size=0.2, random_state=42)\n",
        "\n",
        "# Further split the temporary data (X_temp, y_temp) into validation (10%) and test (10%)\n",
        "X_val, X_test, y_val, y_test = train_test_split(X_temp, y_temp, test_size=0.5, random_state=42)\n",
        "\n",
        "# Print sizes to confirm the splits\n",
        "print(f\"Training size: {len(X_train)}\")\n",
        "print(f\"Validation size: {len(X_val)}\")\n",
        "print(f\"Test size: {len(X_test)}\")\n"
      ],
      "metadata": {
        "colab": {
          "base_uri": "https://localhost:8080/"
        },
        "id": "7PVmHgC5CTTU",
        "outputId": "5b095730-c576-4905-9550-515843af889c"
      },
      "execution_count": null,
      "outputs": [
        {
          "output_type": "stream",
          "name": "stdout",
          "text": [
            "Training size: 23808\n",
            "Validation size: 2976\n",
            "Test size: 2976\n"
          ]
        }
      ]
    },
    {
      "cell_type": "code",
      "source": [],
      "metadata": {
        "id": "uXh9XebdCEHY"
      },
      "execution_count": null,
      "outputs": []
    },
    {
      "cell_type": "code",
      "source": [
        "# Load Trained Model\n",
        "model_path = \"/content/bert_multi_label_model2.pth\"\n",
        "\n",
        "#Loading the model\n",
        "\n"
      ],
      "metadata": {
        "id": "6oql1qCktEDM"
      },
      "execution_count": null,
      "outputs": []
    },
    {
      "cell_type": "code",
      "source": [
        "import torch\n",
        "from transformers import BertForSequenceClassification\n",
        "\n",
        "# Define the model path\n",
        "model_path = \"/content/bert_multi_label_model2.pth\"  # Or the correct path in Google Drive\n",
        "\n",
        "# Initialize the model architecture\n",
        "num_labels = 15  # Adjust based on your setup\n",
        "model = BertForSequenceClassification.from_pretrained(\n",
        "    \"bert-base-uncased\", num_labels=num_labels, problem_type=\"multi_label_classification\"\n",
        ")\n",
        "\n",
        "# Load the model weights\n",
        "device = torch.device(\"cuda\" if torch.cuda.is_available() else \"cpu\")\n",
        "model.load_state_dict(torch.load(model_path, map_location=device))\n",
        "\n",
        "# Move the model to the correct device\n",
        "model.to(device)\n",
        "\n",
        "# Set the model to evaluation mode\n",
        "model.eval()\n",
        "\n",
        "print(\"✅ Model loaded successfully!\")\n"
      ],
      "metadata": {
        "colab": {
          "base_uri": "https://localhost:8080/"
        },
        "id": "CvcRRQ_jt_KD",
        "outputId": "5443354f-179e-416b-f0e4-4ef1d17680d4"
      },
      "execution_count": null,
      "outputs": [
        {
          "output_type": "stream",
          "name": "stderr",
          "text": [
            "Some weights of BertForSequenceClassification were not initialized from the model checkpoint at bert-base-uncased and are newly initialized: ['classifier.bias', 'classifier.weight']\n",
            "You should probably TRAIN this model on a down-stream task to be able to use it for predictions and inference.\n"
          ]
        },
        {
          "output_type": "stream",
          "name": "stdout",
          "text": [
            "✅ Model loaded successfully!\n"
          ]
        }
      ]
    },
    {
      "cell_type": "code",
      "source": [
        "# Example support values from classification report (adjust as needed)\n",
        "support = {\n",
        "    \"Alcohol/Drugs\": 56,\n",
        "    \"Debt Bondage\": 10,\n",
        "    \"False Promises/Deception\": 5,\n",
        "    \"Forced\": 950,\n",
        "    \"Lie\": 121,\n",
        "    \"Limits/Restricts Medical Services\": 6,\n",
        "    \"Minor\": 5519,\n",
        "    \"Physical Abuse/Threat or Force\": 91,\n",
        "    \"Psychological Abuse/Threat or Force\": 315,\n",
        "    \"Restricts Access to/Manipulates Children\": 740,\n",
        "    \"Restricts Movement/Isolates\": 9,\n",
        "    \"Sexual Abuse\": 2907,\n",
        "    \"Takes/Withholds Earnings/Wages\": 14,\n",
        "    \"Use of Psychoactive Substances\": 54,\n",
        "    \"Withholds/Destroys Important Documents\": 1\n",
        "}\n",
        "\n",
        "# Calculate the inverse of the support values for class weights\n",
        "total_samples = sum(support.values())\n",
        "class_weights = {class_name: total_samples / count for class_name, count in support.items()}\n",
        "\n",
        "print(\"Class Weights:\", class_weights)\n",
        "\n"
      ],
      "metadata": {
        "colab": {
          "base_uri": "https://localhost:8080/"
        },
        "id": "lKb3bolV0odM",
        "outputId": "979158cd-3bbc-4e95-c350-ab4d135114b8"
      },
      "execution_count": null,
      "outputs": [
        {
          "output_type": "stream",
          "name": "stdout",
          "text": [
            "Class Weights: {'Alcohol/Drugs': 192.82142857142858, 'Debt Bondage': 1079.8, 'False Promises/Deception': 2159.6, 'Forced': 11.366315789473685, 'Lie': 89.2396694214876, 'Limits/Restricts Medical Services': 1799.6666666666667, 'Minor': 1.9565138612067403, 'Physical Abuse/Threat or Force': 118.65934065934066, 'Psychological Abuse/Threat or Force': 34.27936507936508, 'Restricts Access to/Manipulates Children': 14.591891891891892, 'Restricts Movement/Isolates': 1199.7777777777778, 'Sexual Abuse': 3.714482284141727, 'Takes/Withholds Earnings/Wages': 771.2857142857143, 'Use of Psychoactive Substances': 199.96296296296296, 'Withholds/Destroys Important Documents': 10798.0}\n"
          ]
        }
      ]
    },
    {
      "cell_type": "code",
      "source": [
        "import torch\n",
        "import torch.nn as nn\n",
        "\n",
        "# Example class weights\n",
        "weights = torch.tensor([\n",
        "    1.0,  # Alcohol/Drugs\n",
        "    5.6,  # Debt Bondage\n",
        "    11.2,  # False Promises/Deception\n",
        "    0.1,  # Forced\n",
        "    0.9,  # Lie\n",
        "    17.6,  # Limits/Restricts Medical Services\n",
        "    0.02,  # Minor\n",
        "    0.1,  # Physical Abuse/Threat or Force\n",
        "    0.3,  # Psychological Abuse/Threat or Force\n",
        "    0.1,  # Restricts Access to/Manipulates Children\n",
        "    17.3,  # Restricts Movement/Isolates\n",
        "    0.02,  # Sexual Abuse\n",
        "    14.8,  # Takes/Withholds Earnings/Wages\n",
        "    2.3,  # Use of Psychoactive Substances\n",
        "    56.0  # Withholds/Destroys Important Documents\n",
        "])\n",
        "\n",
        "# Use the class weights in BCEWithLogitsLoss\n",
        "criterion = nn.BCEWithLogitsLoss(weight=weights)\n",
        "\n",
        "# Your model training loop should now use this criterion\n"
      ],
      "metadata": {
        "id": "tjizWjOU3UMb"
      },
      "execution_count": null,
      "outputs": []
    },
    {
      "cell_type": "code",
      "source": [
        "from torch.utils.data import DataLoader, TensorDataset\n",
        "\n",
        "# Convert tokenized lists into tensors\n",
        "# If X_train is already a tensor, extract input_ids and attention_mask differently\n",
        "if isinstance(X_train, dict):\n",
        "    train_input_ids = torch.tensor(X_train[\"input_ids\"], dtype=torch.long).to(device)\n",
        "    train_attention_mask = torch.tensor(X_train[\"attention_mask\"], dtype=torch.long).to(device)\n",
        "else:\n",
        "    # Convert list of dictionaries into tensors\n",
        "   train_input_ids = torch.stack([x[\"input_ids\"].squeeze(0) if isinstance(x[\"input_ids\"], torch.Tensor) else torch.tensor(x[\"input_ids\"], dtype=torch.long) for x in X_train]).to(device)\n",
        "   train_attention_mask = torch.stack([x[\"attention_mask\"].squeeze(0) if isinstance(x[\"attention_mask\"], torch.Tensor) else torch.tensor(x[\"attention_mask\"], dtype=torch.long) for x in X_train]).to(device)\n",
        "\n",
        "# Convert labels\n",
        "train_labels = torch.tensor(y_train.values, dtype=torch.float).to(device)\n",
        "\n",
        "val_input_ids = torch.stack([x[\"input_ids\"].squeeze(0) if isinstance(x[\"input_ids\"], torch.Tensor) else torch.tensor(x[\"input_ids\"], dtype=torch.long) for x in X_val]).to(device)\n",
        "val_attention_mask = torch.stack([x[\"attention_mask\"].squeeze(0) if isinstance(x[\"attention_mask\"], torch.Tensor) else torch.tensor(x[\"attention_mask\"], dtype=torch.long) for x in X_val]).to(device)\n",
        "\n",
        "val_labels = torch.tensor(y_val.values, dtype=torch.float).to(device)\n",
        "\n",
        "test_input_ids = torch.stack([x[\"input_ids\"] for x in X_test]).to(device)\n",
        "test_attention_mask = torch.stack([x[\"attention_mask\"] for x in X_test]).to(device)\n",
        "\n",
        "\n",
        "test_labels = torch.tensor(y_test.values, dtype=torch.float).to(device)\n",
        "\n",
        "# Create TensorDatasets\n",
        "train_dataset = TensorDataset(train_input_ids, train_attention_mask, train_labels)\n",
        "val_dataset = TensorDataset(val_input_ids, val_attention_mask, val_labels)\n",
        "test_dataset = TensorDataset(test_input_ids, test_attention_mask, test_labels)\n",
        "\n",
        "# Create DataLoaders\n",
        "batch_size = 16  # Adjust batch size as needed\n",
        "train_dataloader = DataLoader(train_dataset, batch_size=batch_size, shuffle=True)\n",
        "val_dataloader = DataLoader(val_dataset, batch_size=batch_size, shuffle=False)\n",
        "test_dataloader = DataLoader(test_dataset, batch_size=batch_size, shuffle=False)\n",
        "\n",
        "print(\"✅ Data is correctly formatted and DataLoaders are ready!\")\n"
      ],
      "metadata": {
        "colab": {
          "base_uri": "https://localhost:8080/"
        },
        "id": "qeIjzusc34sa",
        "outputId": "d80d91a6-9a8d-41ae-8cd9-3d7f6ac73615"
      },
      "execution_count": null,
      "outputs": [
        {
          "output_type": "stream",
          "name": "stdout",
          "text": [
            "✅ Data is correctly formatted and DataLoaders are ready!\n"
          ]
        }
      ]
    },
    {
      "cell_type": "code",
      "source": [
        "from transformers import BertForSequenceClassification\n",
        "from transformers import AdamW\n",
        "import torch\n",
        "import torch.nn as nn\n",
        "\n",
        "# Define the model path\n",
        "model_path = \"/content/bert_multi_label_model2.pth\"  # Or the correct path in Google Drive\n",
        "\n",
        "# Initialize the model architecture\n",
        "num_labels = 15  # Adjust based on your setup\n",
        "model = BertForSequenceClassification.from_pretrained(\n",
        "    \"bert-base-uncased\", num_labels=num_labels, problem_type=\"multi_label_classification\"\n",
        ")\n",
        "\n",
        "# Load the model weights\n",
        "device = torch.device(\"cuda\" if torch.cuda.is_available() else \"cpu\")\n",
        "model.load_state_dict(torch.load(model_path, map_location=device))\n",
        "\n",
        "# Move the model to the correct device\n",
        "model.to(device)\n",
        "\n",
        "# Set the model to evaluation mode (optional for fine-tuning)\n",
        "model.eval()\n",
        "\n",
        "# Define class weights based on the classification report\n",
        "weights = torch.tensor([\n",
        "    1.0,  # Alcohol/Drugs\n",
        "    5.6,  # Debt Bondage\n",
        "    11.2,  # False Promises/Deception\n",
        "    0.1,  # Forced\n",
        "    0.9,  # Lie\n",
        "    17.6,  # Limits/Restricts Medical Services\n",
        "    0.02,  # Minor\n",
        "    0.1,  # Physical Abuse/Threat or Force\n",
        "    0.3,  # Psychological Abuse/Threat or Force\n",
        "    0.1,  # Restricts Access to/Manipulates Children\n",
        "    17.3,  # Restricts Movement/Isolates\n",
        "    0.02,  # Sexual Abuse\n",
        "    14.8,  # Takes/Withholds Earnings/Wages\n",
        "    2.3,  # Use of Psychoactive Substances\n",
        "    56.0  # Withholds/Destroys Important Documents\n",
        "]).to(device)\n",
        "\n",
        "# Define the loss function with class weights\n",
        "criterion = nn.BCEWithLogitsLoss(weight=weights).to(device)\n",
        "\n",
        "# Define the optimizer\n",
        "optimizer = AdamW(model.parameters(), lr=1e-5)\n",
        "\n",
        "num_epochs = 3  # Define the number of epochs for fine-tuning\n",
        "\n",
        "# Training loop\n",
        "for epoch in range(num_epochs):\n",
        "    model.train()  # Set the model to training mode\n",
        "    for batch in train_dataloader:  # Replace with your actual DataLoader\n",
        "        optimizer.zero_grad()  # Clear the gradients\n",
        "\n",
        "        # Get input data from the batch\n",
        "        input_ids, attention_mask, labels = batch\n",
        "\n",
        "         # Move tensors to the correct device\n",
        "        input_ids = input_ids.to(device)\n",
        "        attention_mask = attention_mask.to(device)\n",
        "        labels = labels.to(device)\n",
        "\n",
        "        # Forward pass\n",
        "        outputs = model(input_ids, attention_mask=attention_mask)\n",
        "        logits = outputs.logits  # Get the logits from the model output\n",
        "\n",
        "        # Compute the loss with the class weights\n",
        "        loss = criterion(logits, labels)\n",
        "\n",
        "        # Backward pass and optimization\n",
        "        loss.backward()\n",
        "        optimizer.step()\n",
        "\n",
        "    # Optionally, evaluate after each epoch to monitor the validation performance\n",
        "    print(f\"Epoch {epoch+1}/{num_epochs}, Loss: {loss.item()}\")\n",
        "\n",
        "print(\"✅ Model fine-tuned successfully!\")\n"
      ],
      "metadata": {
        "colab": {
          "base_uri": "https://localhost:8080/"
        },
        "id": "ACOo7I5ZPi_4",
        "outputId": "73050e62-16a7-4b7c-b419-2cbdbd8dbc6c"
      },
      "execution_count": null,
      "outputs": [
        {
          "output_type": "stream",
          "name": "stderr",
          "text": [
            "Some weights of BertForSequenceClassification were not initialized from the model checkpoint at bert-base-uncased and are newly initialized: ['classifier.bias', 'classifier.weight']\n",
            "You should probably TRAIN this model on a down-stream task to be able to use it for predictions and inference.\n"
          ]
        },
        {
          "output_type": "stream",
          "name": "stdout",
          "text": [
            "Epoch 1/3, Loss: 0.02150985598564148\n",
            "Epoch 2/3, Loss: 0.018855106085538864\n",
            "Epoch 3/3, Loss: 0.008407040499150753\n",
            "✅ Model fine-tuned successfully!\n"
          ]
        }
      ]
    },
    {
      "cell_type": "markdown",
      "source": [],
      "metadata": {
        "id": "8Qfsrew5sKQN"
      }
    },
    {
      "cell_type": "code",
      "source": [
        "import torch\n",
        "import numpy as np\n",
        "from sklearn.metrics import precision_recall_fscore_support, roc_auc_score\n",
        "\n",
        "from sklearn.metrics import accuracy_score, precision_recall_fscore_support\n",
        "\n",
        "# Evaluation loop\n",
        "model.eval()  # Set the model to evaluation mode\n",
        "\n",
        "all_preds = []\n",
        "all_labels = []\n",
        "\n",
        "with torch.no_grad():  # Disable gradient calculation for inference\n",
        "    for batch in test_dataloader:\n",
        "        input_ids, attention_mask, labels = batch\n",
        "        input_ids = input_ids.squeeze(1).to(device)  # Remove the extra dimension\n",
        "        attention_mask = attention_mask.squeeze(1).to(device)  # Remove the extra dimension\n",
        "        labels = labels.to(device)\n",
        "\n",
        "        # Forward pass through the model\n",
        "        outputs = model(input_ids=input_ids, attention_mask=attention_mask)\n",
        "        logits = outputs.logits  # Extract logits\n",
        "\n",
        "        # Apply sigmoid to get probabilities\n",
        "        probs = torch.sigmoid(logits)\n",
        "\n",
        "        # Convert probabilities to binary predictions (threshold=0.5)\n",
        "        preds = (probs > 0.5).float()\n",
        "\n",
        "        # Store predictions and labels for evaluation\n",
        "        all_preds.append(preds.cpu())\n",
        "        all_labels.append(labels.cpu())\n",
        "\n",
        "# Concatenate all predictions and labels\n",
        "all_preds = torch.cat(all_preds, dim=0).numpy()\n",
        "all_labels = torch.cat(all_labels, dim=0).numpy()\n",
        "\n",
        "# Calculate evaluation metrics\n",
        "precision, recall, f1, _ = precision_recall_fscore_support(all_labels, all_preds, average='weighted')\n",
        "accuracy = accuracy_score(all_labels, all_preds)\n",
        "\n",
        "# Print evaluation results\n",
        "print(f\"Accuracy: {accuracy:.4f}\")\n",
        "print(f\"Precision: {precision:.4f}\")\n",
        "print(f\"Recall: {recall:.4f}\")\n",
        "print(f\"F1-score: {f1:.4f}\")\n",
        "\n"
      ],
      "metadata": {
        "colab": {
          "base_uri": "https://localhost:8080/"
        },
        "id": "vP7wcCGMrG7F",
        "outputId": "e4700c63-c97d-442a-afec-40a7216f830d"
      },
      "execution_count": null,
      "outputs": [
        {
          "output_type": "stream",
          "name": "stdout",
          "text": [
            "Accuracy: 0.8182\n",
            "Precision: 0.9340\n",
            "Recall: 0.9295\n",
            "F1-score: 0.9284\n"
          ]
        },
        {
          "output_type": "stream",
          "name": "stderr",
          "text": [
            "/usr/local/lib/python3.11/dist-packages/sklearn/metrics/_classification.py:1565: UndefinedMetricWarning: Precision is ill-defined and being set to 0.0 in labels with no predicted samples. Use `zero_division` parameter to control this behavior.\n",
            "  _warn_prf(average, modifier, f\"{metric.capitalize()} is\", len(result))\n"
          ]
        }
      ]
    },
    {
      "cell_type": "code",
      "source": [
        "from sklearn.metrics import classification_report, hamming_loss, jaccard_score\n"
      ],
      "metadata": {
        "id": "ihqWIaoFvq8_"
      },
      "execution_count": null,
      "outputs": []
    },
    {
      "cell_type": "code",
      "source": [
        "from sklearn.metrics import classification_report, hamming_loss, jaccard_score\n",
        "\n",
        "# Calculate classification report\n",
        "print(\"Classification Report:\")\n",
        "print(classification_report(all_labels, all_preds))\n",
        "\n",
        "# Print evaluation results\n",
        "print(f\"Accuracy: {accuracy:.4f}\")\n",
        "\n",
        "print(f\"Precision: {precision:.4f}\")\n",
        "\n",
        "print(f\"Recall: {recall:.4f}\")\n",
        "\n",
        "print(f\"F1-score: {f1:.4f}\")\n",
        "\n",
        "# Calculate Hamming Loss\n",
        "hamming = hamming_loss(all_labels, all_preds)\n",
        "print(f\"Hamming Loss: {hamming:.4f}\")\n",
        "\n",
        "# Calculate Jaccard Score (this is per label, or 'samples' for overall average)\n",
        "jaccard = jaccard_score(all_labels, all_preds, average='samples')\n",
        "print(f\"Jaccard Score: {jaccard:.4f}\")\n"
      ],
      "metadata": {
        "colab": {
          "base_uri": "https://localhost:8080/"
        },
        "id": "AIqP8eGmvsYP",
        "outputId": "ad93582d-7738-4b57-8b26-4f286ef71701"
      },
      "execution_count": null,
      "outputs": [
        {
          "output_type": "stream",
          "name": "stdout",
          "text": [
            "Classification Report:\n",
            "              precision    recall  f1-score   support\n",
            "\n",
            "           0       0.76      0.64      0.70        25\n",
            "           1       0.67      0.33      0.44         6\n",
            "           2       0.00      0.00      0.00         2\n",
            "           3       0.94      0.92      0.93       484\n",
            "           4       0.73      0.14      0.24        57\n",
            "           5       0.00      0.00      0.00         2\n",
            "           6       0.97      1.00      0.98      2746\n",
            "           7       0.20      0.02      0.04        44\n",
            "           8       0.79      0.67      0.73       147\n",
            "           9       0.79      0.73      0.76       363\n",
            "          10       0.50      0.20      0.29         5\n",
            "          11       0.95      0.96      0.96      1459\n",
            "          12       0.50      0.11      0.18         9\n",
            "          13       0.78      0.78      0.78        23\n",
            "          14       0.33      1.00      0.50         1\n",
            "\n",
            "   micro avg       0.94      0.93      0.94      5373\n",
            "   macro avg       0.59      0.50      0.50      5373\n",
            "weighted avg       0.93      0.93      0.93      5373\n",
            " samples avg       0.96      0.95      0.95      5373\n",
            "\n",
            "Accuracy: 0.8182\n",
            "Precision: 0.9340\n",
            "Recall: 0.9295\n",
            "F1-score: 0.9284\n",
            "Hamming Loss: 0.0151\n",
            "Jaccard Score: 0.9199\n"
          ]
        },
        {
          "output_type": "stream",
          "name": "stderr",
          "text": [
            "/usr/local/lib/python3.11/dist-packages/sklearn/metrics/_classification.py:1565: UndefinedMetricWarning: Precision is ill-defined and being set to 0.0 in labels with no predicted samples. Use `zero_division` parameter to control this behavior.\n",
            "  _warn_prf(average, modifier, f\"{metric.capitalize()} is\", len(result))\n",
            "/usr/local/lib/python3.11/dist-packages/sklearn/metrics/_classification.py:1565: UndefinedMetricWarning: Precision is ill-defined and being set to 0.0 in samples with no predicted labels. Use `zero_division` parameter to control this behavior.\n",
            "  _warn_prf(average, modifier, f\"{metric.capitalize()} is\", len(result))\n"
          ]
        }
      ]
    },
    {
      "cell_type": "markdown",
      "source": [
        "**Saving the entire model with the weight and architecture**"
      ],
      "metadata": {
        "id": "zmBzhAWME5LL"
      }
    },
    {
      "cell_type": "code",
      "source": [
        "# Define the new model path with a different name\n",
        "new_model_path = \"/content/bert_multi_label_model_v2.pth\"  # Change the filename as needed\n",
        "\n",
        "# Save the entire model with the new name\n",
        "torch.save(model, new_model_path)\n",
        "print(f\"✅ Entire model saved successfully at {new_model_path}\")\n"
      ],
      "metadata": {
        "colab": {
          "base_uri": "https://localhost:8080/"
        },
        "id": "sYNTDsmg3tBW",
        "outputId": "cd94390b-0189-41a9-d2ba-c0f626a59f4e"
      },
      "execution_count": null,
      "outputs": [
        {
          "output_type": "stream",
          "name": "stdout",
          "text": [
            "✅ Entire model saved successfully at /content/bert_multi_label_model_v2.pth\n"
          ]
        }
      ]
    },
    {
      "cell_type": "markdown",
      "source": [
        "**Saving the model only**"
      ],
      "metadata": {
        "id": "kGo0a2qoERih"
      }
    },
    {
      "cell_type": "code",
      "source": [
        "# Define the model path\n",
        "model_path = \"bert_model22.pth\"  # Change the name and path as needed\n",
        "\n",
        "# Save the model's state_dict (weights and architecture)\n",
        "torch.save(model.state_dict(), model_path)\n",
        "\n",
        "print(f\"✅ Model saved to {model_path}\")\n"
      ],
      "metadata": {
        "colab": {
          "base_uri": "https://localhost:8080/"
        },
        "id": "TYXPjjMxEYxw",
        "outputId": "cb14102d-7ea1-4723-e353-253a76e73668"
      },
      "execution_count": null,
      "outputs": [
        {
          "output_type": "stream",
          "name": "stdout",
          "text": [
            "✅ Model saved to bert_model22.pth\n"
          ]
        }
      ]
    },
    {
      "cell_type": "code",
      "source": [
        "\n",
        "\n",
        "# Assuming you have already computed the classification report\n",
        "report = classification_report(all_labels, all_preds, output_dict=True)\n",
        "\n",
        "# Convert the classification report to a pandas DataFrame\n",
        "report_df_bert2 = pd.DataFrame(report).transpose()\n",
        "\n",
        "# Save the DataFrame to a CSV file\n",
        "report_df_bert2.to_csv(\"bert2_classification_report.csv\", index=True)\n",
        "\n",
        "print(\"✅ Classification report saved as CSV\")\n",
        "\n"
      ],
      "metadata": {
        "colab": {
          "base_uri": "https://localhost:8080/"
        },
        "id": "CACTxEHItbTo",
        "outputId": "77273001-2b7c-4955-877e-f301b74283ee"
      },
      "execution_count": null,
      "outputs": [
        {
          "output_type": "stream",
          "name": "stdout",
          "text": [
            "✅ Classification report saved as CSV\n"
          ]
        },
        {
          "output_type": "stream",
          "name": "stderr",
          "text": [
            "/usr/local/lib/python3.11/dist-packages/sklearn/metrics/_classification.py:1565: UndefinedMetricWarning: Precision is ill-defined and being set to 0.0 in labels with no predicted samples. Use `zero_division` parameter to control this behavior.\n",
            "  _warn_prf(average, modifier, f\"{metric.capitalize()} is\", len(result))\n",
            "/usr/local/lib/python3.11/dist-packages/sklearn/metrics/_classification.py:1565: UndefinedMetricWarning: Precision is ill-defined and being set to 0.0 in samples with no predicted labels. Use `zero_division` parameter to control this behavior.\n",
            "  _warn_prf(average, modifier, f\"{metric.capitalize()} is\", len(result))\n"
          ]
        }
      ]
    }
  ]
}